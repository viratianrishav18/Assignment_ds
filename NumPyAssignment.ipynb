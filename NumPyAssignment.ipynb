{
  "nbformat": 4,
  "nbformat_minor": 0,
  "metadata": {
    "colab": {
      "provenance": []
    },
    "kernelspec": {
      "name": "python3",
      "display_name": "Python 3"
    },
    "language_info": {
      "name": "python"
    }
  },
  "cells": [
    {
      "cell_type": "markdown",
      "source": [
        "**Theoretical Questions:**\n",
        "\n",
        "**Q.1 Explain the purpose and advantage of NumPy in scientific computing and data analysis.How does it enhances python's capabilities for numerical operations?**\n",
        "\n",
        "**Purpose and Advantages:**\n",
        "\n",
        "NumPy is powerful library for numerical computation.It provides support for multi-dimensional arrays and matrices,along with a collection of mathematical function to operate on these arrays.\n",
        "\n",
        "**Enhancements to python**\n",
        "\n",
        "\n",
        "*   Efficiency:\n",
        "        \n",
        "       NumPy arrays are more efficient than the python lists for large data sets as they uses less memory and allow faster data processing.\n",
        "\n",
        "*   Vectorised operation:\n",
        "     \n",
        "       Numpy allows element wise operation without the use of vectorised loop.\n",
        "\n",
        "\n",
        "*   Integration:\n",
        "\n",
        "       NumPy integrates well with other scientific computing libraries such as SciPy and pandas,and is essential for machine learning and data analysing.\n",
        "\n",
        "\n",
        "\n",
        "    \n",
        "\n",
        "\n",
        "\n",
        "\n",
        "\n",
        "\n"
      ],
      "metadata": {
        "id": "NPz_YpA4hSpf"
      }
    },
    {
      "cell_type": "markdown",
      "source": [
        "**Q.2 Compare and contrast np.mean() and np.average() functions in NumPy.When would You use one over the other?**\n",
        "\n",
        "\n",
        "\n",
        "1.   np.mean():\n",
        "     Calcuates mean of the array element along the specified axis excluding weights.\n",
        "2.   np.average():\n",
        "     Calculates weighted average.\n",
        "\n",
        "*   When to use:\n",
        "\n",
        "     Use np.mean()to claculate simple avearge.\n",
        "     use np.avearge() when weight is given.\n",
        "\n",
        "\n",
        "\n"
      ],
      "metadata": {
        "id": "1AM5ussSnUaH"
      }
    },
    {
      "cell_type": "markdown",
      "source": [
        "**Q.3Describe the methods for revrsing a Numpy array along different axes.Provide examples for 1D and 2D array.**\n",
        "\n",
        "\n",
        "\n",
        "*   Reversing in 1D: Use slicing.Eg..arr[::-1]\n",
        "*   Reversing in 2D:\n",
        "    \n",
        "    Rowwise(axis 0): arr[::-1,:]\n",
        "    column-wise(axis 1): arr[:,::-1]\n",
        "\n"
      ],
      "metadata": {
        "id": "HUAlUdmUG6Wv"
      }
    },
    {
      "cell_type": "code",
      "source": [
        "# Q.3 eg.\n",
        "import numpy as np\n",
        "arr_1d=np.array([1,2,3,4])[::-1]\n",
        "arr_2d=np.array([[1,2],[3,4]])[::-1,1]\n",
        "arr_1d\n"
      ],
      "metadata": {
        "colab": {
          "base_uri": "https://localhost:8080/"
        },
        "id": "qQxJtAhQRd9n",
        "outputId": "326a11b6-00eb-4e77-b28b-afc184472b33"
      },
      "execution_count": 20,
      "outputs": [
        {
          "output_type": "execute_result",
          "data": {
            "text/plain": [
              "array([4, 3, 2, 1])"
            ]
          },
          "metadata": {},
          "execution_count": 20
        }
      ]
    },
    {
      "cell_type": "code",
      "source": [
        "\n",
        "arr_2d"
      ],
      "metadata": {
        "colab": {
          "base_uri": "https://localhost:8080/"
        },
        "id": "10DjsPdTWk4G",
        "outputId": "8c1e3a27-67fd-40e3-bac4-1769bb9c9831"
      },
      "execution_count": 21,
      "outputs": [
        {
          "output_type": "execute_result",
          "data": {
            "text/plain": [
              "array([4, 2])"
            ]
          },
          "metadata": {},
          "execution_count": 21
        }
      ]
    },
    {
      "cell_type": "markdown",
      "source": [
        "**Q.4 How can you determine the data type of elements in a numPy array?Discuss the importance of data types in memory management and performance.**\n",
        "\n",
        "\n",
        "\n",
        "*   Determining data type:\n",
        "        \n",
        "      Use the dtype attribute. eg..arr.dtype.\n",
        "*   Importance:\n",
        "       \n",
        "     Specifying data types helps in optimizing memory usage and computational speed,as smaller dta types use less,memory.\n",
        "     Using appropriate data types improves performance.\n",
        "\n"
      ],
      "metadata": {
        "id": "EoenEspmXJ_C"
      }
    },
    {
      "cell_type": "markdown",
      "source": [
        "**Q.5 Define ndarrays in numpy and explain their key features.How do they differ from standard python lists?**\n",
        "\n",
        "\n",
        "*   **ndarray (n-dimensional array) :** It is a grid of values  witha specified\n",
        "    number of dimensions and a fixed size.Each element in the ndarray has same data type.\n",
        "\n",
        "*   **Key features of ndarray :**\n",
        "\n",
        "1.   Suports mathematical and logical operations.\n",
        "2.   Faster and more memory-efficient than python lists.\n",
        "\n",
        "*   **Difference from python lists:** Unlike lists, ndarrays suport vectorised operation and have homogenous data types,which allow for efficient computation.\n",
        "\n",
        "\n",
        "\n"
      ],
      "metadata": {
        "id": "MVOFi43BYw_D"
      }
    },
    {
      "cell_type": "markdown",
      "source": [
        "**Q.6Analyse the performance benefits of Numpy arrays over python lists over large scale numerical operations.**\n",
        "\n",
        "\n",
        "1.   **Memory efficiency :**Numpy arrays consume less memory than lists as they are stored in contigous blocks.\n",
        "2.   **Speed :** Numpy operation are faster becuse they are implemented in C and involves fewer function calls.\n",
        "\n",
        "3.  **Vectorised operation :**Element wise operations on arrays eliminate the python loops,further improving the performance.\n",
        "\n",
        "\n",
        "\n",
        "\n"
      ],
      "metadata": {
        "id": "EnEJ-7AGbACY"
      }
    },
    {
      "cell_type": "markdown",
      "source": [
        "**Q.7 Compare vstack() and hstack() functions in numpy.Provide examples demonstrating their usage and output.**\n",
        "\n",
        "\n",
        "*   **vstack():** stacks arrays vertically(along rows).\n",
        "*   **hstack():** stacks arrays horizontally(along columns).\n",
        "\n",
        "\n",
        "\n",
        "\n"
      ],
      "metadata": {
        "id": "jOzsSaIcdIs_"
      }
    },
    {
      "cell_type": "code",
      "source": [
        "#eg...\n",
        "arr1=np.array([1,2])\n",
        "arr2=np.array([3,4])\n",
        "np.vstack((arr1,arr2))\n"
      ],
      "metadata": {
        "colab": {
          "base_uri": "https://localhost:8080/"
        },
        "id": "14u0sBW-eU0r",
        "outputId": "8ceb5cfd-79ad-45b6-a649-846e64678481"
      },
      "execution_count": 24,
      "outputs": [
        {
          "output_type": "execute_result",
          "data": {
            "text/plain": [
              "array([[1, 2],\n",
              "       [3, 4]])"
            ]
          },
          "metadata": {},
          "execution_count": 24
        }
      ]
    },
    {
      "cell_type": "code",
      "source": [
        "np.hstack((arr1,arr2))"
      ],
      "metadata": {
        "colab": {
          "base_uri": "https://localhost:8080/"
        },
        "id": "-8BlAqBnfTru",
        "outputId": "3fc7d316-674a-41f3-9365-e4ee2c3180af"
      },
      "execution_count": 25,
      "outputs": [
        {
          "output_type": "execute_result",
          "data": {
            "text/plain": [
              "array([1, 2, 3, 4])"
            ]
          },
          "metadata": {},
          "execution_count": 25
        }
      ]
    },
    {
      "cell_type": "markdown",
      "source": [
        "**Q.8 Explain the differnce between fliplr() and flipud() methods in numpy including their effects on various array dimensions.**\n",
        "\n",
        "\n",
        "\n",
        "*   **flipud():** Flips the array verticall up to down.\n",
        "Equvalent to reversing the order of rows.\n",
        "*  **fliplr():** Flips the array horizontally left to right.Equivalent to reversing the order of columns.\n",
        "\n"
      ],
      "metadata": {
        "id": "3ltts84-fj59"
      }
    },
    {
      "cell_type": "code",
      "source": [
        "#eg...\n",
        "arr=np.array([[1,2],[3,5]])\n",
        "np.flipud(arr)"
      ],
      "metadata": {
        "colab": {
          "base_uri": "https://localhost:8080/"
        },
        "id": "nuFhlmsNg6gv",
        "outputId": "8a8278d5-3bbf-4f59-9860-250cbf8be684"
      },
      "execution_count": 26,
      "outputs": [
        {
          "output_type": "execute_result",
          "data": {
            "text/plain": [
              "array([[3, 5],\n",
              "       [1, 2]])"
            ]
          },
          "metadata": {},
          "execution_count": 26
        }
      ]
    },
    {
      "cell_type": "code",
      "source": [
        "np.fliplr(arr)"
      ],
      "metadata": {
        "colab": {
          "base_uri": "https://localhost:8080/"
        },
        "id": "zhq1sgD-hrPe",
        "outputId": "2b7c5f8f-6fc0-4706-f653-2afb980feaba"
      },
      "execution_count": 27,
      "outputs": [
        {
          "output_type": "execute_result",
          "data": {
            "text/plain": [
              "array([[2, 1],\n",
              "       [5, 3]])"
            ]
          },
          "metadata": {},
          "execution_count": 27
        }
      ]
    },
    {
      "cell_type": "markdown",
      "source": [
        "**Q.9 Discuss the functionality of the array_split() method in numPy.how does it handle uneven split?**\n",
        "\n",
        "\n",
        "*   **Functionality :** array_split() divides an array into subarrays.It is useful when number of sections does not evenly divide the array.\n",
        "* **Uneven splits :** If the array does not divide evenly,the final sub arrays will be smaller than the others.\n",
        "\n"
      ],
      "metadata": {
        "id": "bvLbXqk7h4j1"
      }
    },
    {
      "cell_type": "code",
      "source": [
        "#eg..\n",
        "arr = np.array([1,2,3,4,5])\n",
        "np.array_split(arr,3)\n"
      ],
      "metadata": {
        "colab": {
          "base_uri": "https://localhost:8080/"
        },
        "id": "L_RmbWXOkRvj",
        "outputId": "fe83e909-e5f9-4848-bfab-2089b6db5cbb"
      },
      "execution_count": 28,
      "outputs": [
        {
          "output_type": "execute_result",
          "data": {
            "text/plain": [
              "[array([1, 2]), array([3, 4]), array([5])]"
            ]
          },
          "metadata": {},
          "execution_count": 28
        }
      ]
    },
    {
      "cell_type": "markdown",
      "source": [
        "**Q.10 Explain the concepts of vectorization and broadcasting in numpy.How do they contribute to efficent array operations?**\n",
        "\n",
        "\n",
        "*  **Vectorization:** Eliminates explicit loops by applying operations directly on arrays.\n",
        "*   **Broadcasting :**Expands the dimensions of smaller arrays to match larger arrays,allowing element-wise operations on differntly shaped arrays.\n",
        "\n",
        "*   **Efficiency :** Both techniques minimize the need for python loops,making coputations faster and more memory-efficient.\n",
        "\n",
        "\n",
        "\n",
        "\n"
      ],
      "metadata": {
        "id": "kEnQV9DMllHu"
      }
    },
    {
      "cell_type": "markdown",
      "source": [
        "**Practical Questions**\n",
        "\n",
        "**Q.1  Create a 3x3 NumPy array with random integers between 1 and 100 .Then interchange the rows and columns.**\n"
      ],
      "metadata": {
        "id": "gy9umHIVsslP"
      }
    },
    {
      "cell_type": "code",
      "source": [
        "import numpy as np\n",
        "array=np.random.randint(1,101,size =(3,3))\n",
        "print(\"Original array: \\n\",array)"
      ],
      "metadata": {
        "colab": {
          "base_uri": "https://localhost:8080/"
        },
        "id": "neOtUDAWkwic",
        "outputId": "8eb055f8-e445-4dba-a0c4-e5fd41de52ee"
      },
      "execution_count": 1,
      "outputs": [
        {
          "output_type": "stream",
          "name": "stdout",
          "text": [
            "Original array: \n",
            " [[ 2 76 81]\n",
            " [ 9 11 22]\n",
            " [87 74  2]]\n"
          ]
        }
      ]
    },
    {
      "cell_type": "code",
      "source": [
        "Trans_array =array.T\n",
        "print(\"Transposed array:\\n\",Trans_array)"
      ],
      "metadata": {
        "colab": {
          "base_uri": "https://localhost:8080/"
        },
        "id": "idOjB6NnlmHw",
        "outputId": "9f059593-b446-4143-e568-f4087ed467fd"
      },
      "execution_count": 2,
      "outputs": [
        {
          "output_type": "stream",
          "name": "stdout",
          "text": [
            "Transposed array:\n",
            " [[ 2  9 87]\n",
            " [76 11 74]\n",
            " [81 22  2]]\n"
          ]
        }
      ]
    },
    {
      "cell_type": "markdown",
      "source": [
        "**Q.2 Generate a 1D NumPy array with 10 elements.Reshape it into 2x5 array,then into 5x2 array.**"
      ],
      "metadata": {
        "id": "eNG4L-PmmRrC"
      }
    },
    {
      "cell_type": "code",
      "source": [
        "import numpy as np\n",
        "arr_1d=np.arange(10)\n",
        "print(\"1D Array:\\n\",arr_1d)"
      ],
      "metadata": {
        "colab": {
          "base_uri": "https://localhost:8080/"
        },
        "id": "8pcr0F5GnCfl",
        "outputId": "5253b986-a6f5-435b-81ba-51fe24f4b533"
      },
      "execution_count": 4,
      "outputs": [
        {
          "output_type": "stream",
          "name": "stdout",
          "text": [
            "1D Array:\n",
            " [0 1 2 3 4 5 6 7 8 9]\n"
          ]
        }
      ]
    },
    {
      "cell_type": "code",
      "source": [
        "arr_2x5=arr_1d.reshape(2,5)\n",
        "print(\"2x5 Array :\\n\",arr_2x5)"
      ],
      "metadata": {
        "colab": {
          "base_uri": "https://localhost:8080/"
        },
        "id": "yq30ujzMqq3G",
        "outputId": "40b4c1ac-db2d-426f-d676-16b25d730a1b"
      },
      "execution_count": 5,
      "outputs": [
        {
          "output_type": "stream",
          "name": "stdout",
          "text": [
            "2x5 Array :\n",
            " [[0 1 2 3 4]\n",
            " [5 6 7 8 9]]\n"
          ]
        }
      ]
    },
    {
      "cell_type": "code",
      "source": [
        "arr_5x2=arr_1d.reshape(5,2)\n",
        "print(\"5x2 Array :\\n\",arr_5x2)"
      ],
      "metadata": {
        "colab": {
          "base_uri": "https://localhost:8080/"
        },
        "id": "YmE_mOIXreS8",
        "outputId": "3788e90c-212f-458b-9132-d2174949bc45"
      },
      "execution_count": 6,
      "outputs": [
        {
          "output_type": "stream",
          "name": "stdout",
          "text": [
            "5x2 Array :\n",
            " [[0 1]\n",
            " [2 3]\n",
            " [4 5]\n",
            " [6 7]\n",
            " [8 9]]\n"
          ]
        }
      ]
    },
    {
      "cell_type": "markdown",
      "source": [
        "**Q.3 Create a 4x4 Numpy array with random float values.Add a border of zeroes around it,resulting in a 6x6 array.**"
      ],
      "metadata": {
        "id": "7MLNtSBdr-4W"
      }
    },
    {
      "cell_type": "code",
      "source": [
        "arr_4x4=np.random.rand(4,4)\n",
        "print(\"4x4 Array :\\n\",arr_4x4)"
      ],
      "metadata": {
        "colab": {
          "base_uri": "https://localhost:8080/"
        },
        "id": "xbtm1qGbsjnZ",
        "outputId": "b250da02-b155-4367-b8c8-d20afb7f958b"
      },
      "execution_count": 8,
      "outputs": [
        {
          "output_type": "stream",
          "name": "stdout",
          "text": [
            "4x4 Array :\n",
            " [[0.87849504 0.13852202 0.73571516 0.47888002]\n",
            " [0.93224066 0.92667813 0.27813302 0.83179966]\n",
            " [0.81729298 0.02507646 0.21840116 0.08688684]\n",
            " [0.32811921 0.63296604 0.29702525 0.8868201 ]]\n"
          ]
        }
      ]
    },
    {
      "cell_type": "code",
      "source": [
        "arr_6x6=np.pad(arr_4x4,pad_width=1,mode='constant',constant_values=0)\n",
        "print(\"6x6 Array with zero border :\\n\",arr_6x6)"
      ],
      "metadata": {
        "colab": {
          "base_uri": "https://localhost:8080/"
        },
        "id": "yrtm8RO5s8xV",
        "outputId": "8bff5489-80de-4471-eb95-1aa068154b44"
      },
      "execution_count": 9,
      "outputs": [
        {
          "output_type": "stream",
          "name": "stdout",
          "text": [
            "6x6 Array with zero border :\n",
            " [[0.         0.         0.         0.         0.         0.        ]\n",
            " [0.         0.87849504 0.13852202 0.73571516 0.47888002 0.        ]\n",
            " [0.         0.93224066 0.92667813 0.27813302 0.83179966 0.        ]\n",
            " [0.         0.81729298 0.02507646 0.21840116 0.08688684 0.        ]\n",
            " [0.         0.32811921 0.63296604 0.29702525 0.8868201  0.        ]\n",
            " [0.         0.         0.         0.         0.         0.        ]]\n"
          ]
        }
      ]
    },
    {
      "cell_type": "markdown",
      "source": [
        "**Q.4 Using Numpy,create an array of integers from 10 to 60 with a step of 5.**"
      ],
      "metadata": {
        "id": "ebvANY4wtxpk"
      }
    },
    {
      "cell_type": "code",
      "source": [
        "arr5=np.arange(10,61,5)\n",
        "print(\"Array of integers from 10 to 60 with a step of 5 :\\n\",arr5)"
      ],
      "metadata": {
        "colab": {
          "base_uri": "https://localhost:8080/"
        },
        "id": "W4sOVyWEuHnb",
        "outputId": "653f1b43-3371-42e6-9347-a53b033a43e3"
      },
      "execution_count": 11,
      "outputs": [
        {
          "output_type": "stream",
          "name": "stdout",
          "text": [
            "Array of integers from 10 to 60 with a step of 5 :\n",
            " [10 15 20 25 30 35 40 45 50 55 60]\n"
          ]
        }
      ]
    },
    {
      "cell_type": "markdown",
      "source": [
        "**Q.5 Create a numpy array of strings['python','numpy','pandas'].Apply diferent case transformations(uppercase,lowercase,title case,etc.) to each element.**"
      ],
      "metadata": {
        "id": "Tgg7PXk5uwdG"
      }
    },
    {
      "cell_type": "code",
      "source": [
        "arr_str=np.array(['python','numpy','pandas'])\n",
        "print(\"Original array:\\n\",arr_str)"
      ],
      "metadata": {
        "colab": {
          "base_uri": "https://localhost:8080/"
        },
        "id": "1l1v0q74vcZi",
        "outputId": "1f979c9c-f0e0-4bc6-a3a7-d29cbe693d54"
      },
      "execution_count": 12,
      "outputs": [
        {
          "output_type": "stream",
          "name": "stdout",
          "text": [
            "Original array:\n",
            " ['python' 'numpy' 'pandas']\n"
          ]
        }
      ]
    },
    {
      "cell_type": "code",
      "source": [
        "np.char.upper(arr_str)"
      ],
      "metadata": {
        "colab": {
          "base_uri": "https://localhost:8080/"
        },
        "id": "JgZ8i959vcgT",
        "outputId": "c144bf76-17b7-4292-892b-8b73c0bccb98"
      },
      "execution_count": 13,
      "outputs": [
        {
          "output_type": "execute_result",
          "data": {
            "text/plain": [
              "array(['PYTHON', 'NUMPY', 'PANDAS'], dtype='<U6')"
            ]
          },
          "metadata": {},
          "execution_count": 13
        }
      ]
    },
    {
      "cell_type": "code",
      "source": [
        "np.char.lower(arr_str)"
      ],
      "metadata": {
        "colab": {
          "base_uri": "https://localhost:8080/"
        },
        "id": "eT2dqwUxwRcz",
        "outputId": "3f0facf5-1396-4a6a-e517-8263a4816d42"
      },
      "execution_count": 14,
      "outputs": [
        {
          "output_type": "execute_result",
          "data": {
            "text/plain": [
              "array(['python', 'numpy', 'pandas'], dtype='<U6')"
            ]
          },
          "metadata": {},
          "execution_count": 14
        }
      ]
    },
    {
      "cell_type": "code",
      "source": [
        "np.char.title(arr_str)"
      ],
      "metadata": {
        "colab": {
          "base_uri": "https://localhost:8080/"
        },
        "id": "B_O6Xqk5wZK2",
        "outputId": "6330bba0-9c35-472d-a16b-55509edaf034"
      },
      "execution_count": 15,
      "outputs": [
        {
          "output_type": "execute_result",
          "data": {
            "text/plain": [
              "array(['Python', 'Numpy', 'Pandas'], dtype='<U6')"
            ]
          },
          "metadata": {},
          "execution_count": 15
        }
      ]
    },
    {
      "cell_type": "markdown",
      "source": [
        "**Q.6 Generate a numpy array of words.insert a space between each character of every word in the array.**"
      ],
      "metadata": {
        "id": "Akyg5-I_wjMu"
      }
    },
    {
      "cell_type": "code",
      "source": [
        "word_arr=np.array(['hello','world','numpy'])\n",
        "print(\"Original array:\\n\",word_arr)"
      ],
      "metadata": {
        "colab": {
          "base_uri": "https://localhost:8080/"
        },
        "id": "ubI4HUD0wzt9",
        "outputId": "fd9acb0b-971b-4613-f554-b7e98b0384b2"
      },
      "execution_count": 16,
      "outputs": [
        {
          "output_type": "stream",
          "name": "stdout",
          "text": [
            "Original array:\n",
            " ['hello' 'world' 'numpy']\n"
          ]
        }
      ]
    },
    {
      "cell_type": "code",
      "source": [
        "np.char.join('',word_arr)"
      ],
      "metadata": {
        "colab": {
          "base_uri": "https://localhost:8080/"
        },
        "id": "BFg3vZudxTHr",
        "outputId": "6e4c624a-c1e2-4784-832d-bca126ff0ac9"
      },
      "execution_count": 17,
      "outputs": [
        {
          "output_type": "execute_result",
          "data": {
            "text/plain": [
              "array(['hello', 'world', 'numpy'], dtype='<U5')"
            ]
          },
          "metadata": {},
          "execution_count": 17
        }
      ]
    },
    {
      "cell_type": "markdown",
      "source": [
        "**Q.7 Create two 2D Numpy arrays and perform element -wise addition,subtraction,multiplication,and division.**"
      ],
      "metadata": {
        "id": "CY_Coeajxz4B"
      }
    },
    {
      "cell_type": "code",
      "source": [
        "import numpy as np\n",
        "arr_2d1=np.array([[1,2,3],[4,5,6]])\n",
        "arr_2d2=np.array([[6,9,8],[7,6,4]])\n",
        "print(\"Array 1 :\\n\",arr_2d1)"
      ],
      "metadata": {
        "colab": {
          "base_uri": "https://localhost:8080/"
        },
        "id": "ugofl_zIgJIJ",
        "outputId": "aefb4cea-9141-48fe-917c-40b7e668df28"
      },
      "execution_count": 3,
      "outputs": [
        {
          "output_type": "stream",
          "name": "stdout",
          "text": [
            "Array 1 :\n",
            " [[1 2 3]\n",
            " [4 5 6]]\n"
          ]
        }
      ]
    },
    {
      "cell_type": "code",
      "source": [
        "print(\"Array 2 :\\n\",arr_2d2)"
      ],
      "metadata": {
        "colab": {
          "base_uri": "https://localhost:8080/"
        },
        "id": "WzDEcDC3g_p8",
        "outputId": "6d905e7b-ab80-44a0-c52d-8a8180e7ac5f"
      },
      "execution_count": 4,
      "outputs": [
        {
          "output_type": "stream",
          "name": "stdout",
          "text": [
            "Array 2 :\n",
            " [[6 9 8]\n",
            " [7 6 4]]\n"
          ]
        }
      ]
    },
    {
      "cell_type": "code",
      "source": [
        "#Element wise subtraction\n",
        "np.subtract(arr_2d1,arr_2d2)"
      ],
      "metadata": {
        "colab": {
          "base_uri": "https://localhost:8080/"
        },
        "id": "kUPMNGHyhjju",
        "outputId": "50bb776f-cff6-42fa-922d-8bc829261900"
      },
      "execution_count": 5,
      "outputs": [
        {
          "output_type": "execute_result",
          "data": {
            "text/plain": [
              "array([[-5, -7, -5],\n",
              "       [-3, -1,  2]])"
            ]
          },
          "metadata": {},
          "execution_count": 5
        }
      ]
    },
    {
      "cell_type": "code",
      "source": [
        "#Element wise addition\n",
        "np.add(arr_2d1,arr_2d2)"
      ],
      "metadata": {
        "colab": {
          "base_uri": "https://localhost:8080/"
        },
        "id": "Fkz_WY7whzbk",
        "outputId": "ca7297cb-d90d-41df-98b7-5de9d2dbef00"
      },
      "execution_count": 6,
      "outputs": [
        {
          "output_type": "execute_result",
          "data": {
            "text/plain": [
              "array([[ 7, 11, 11],\n",
              "       [11, 11, 10]])"
            ]
          },
          "metadata": {},
          "execution_count": 6
        }
      ]
    },
    {
      "cell_type": "code",
      "source": [
        "#Element wise multiplication\n",
        "np.multiply(arr_2d1,arr_2d2)"
      ],
      "metadata": {
        "colab": {
          "base_uri": "https://localhost:8080/"
        },
        "id": "lbP09_bQh9yE",
        "outputId": "f8327ce8-8fe9-4bbb-ba93-922ee0e55340"
      },
      "execution_count": 7,
      "outputs": [
        {
          "output_type": "execute_result",
          "data": {
            "text/plain": [
              "array([[ 6, 18, 24],\n",
              "       [28, 30, 24]])"
            ]
          },
          "metadata": {},
          "execution_count": 7
        }
      ]
    },
    {
      "cell_type": "code",
      "source": [
        "#Element wise division\n",
        "np.divide(arr_2d1,arr_2d2)"
      ],
      "metadata": {
        "colab": {
          "base_uri": "https://localhost:8080/"
        },
        "id": "s4K_ptH8iJZZ",
        "outputId": "efb13530-2774-4c48-b28b-a102385345f3"
      },
      "execution_count": 8,
      "outputs": [
        {
          "output_type": "execute_result",
          "data": {
            "text/plain": [
              "array([[0.16666667, 0.22222222, 0.375     ],\n",
              "       [0.57142857, 0.83333333, 1.5       ]])"
            ]
          },
          "metadata": {},
          "execution_count": 8
        }
      ]
    },
    {
      "cell_type": "markdown",
      "source": [
        "**Q.8 Use numpy to create a5x5 identity matrix,then extract its digonal elements.**"
      ],
      "metadata": {
        "id": "cTa8MGusiTxc"
      }
    },
    {
      "cell_type": "code",
      "source": [
        "identity_matrix=np.eye(5)\n",
        "print(\"5x5 Identity matrix :\\n\",identity_matrix)"
      ],
      "metadata": {
        "colab": {
          "base_uri": "https://localhost:8080/"
        },
        "id": "9p0Uko7Limy7",
        "outputId": "8eaca6ca-390d-4139-94e6-84d3a4db7523"
      },
      "execution_count": 10,
      "outputs": [
        {
          "output_type": "stream",
          "name": "stdout",
          "text": [
            "5x5 Identity matrix :\n",
            " [[1. 0. 0. 0. 0.]\n",
            " [0. 1. 0. 0. 0.]\n",
            " [0. 0. 1. 0. 0.]\n",
            " [0. 0. 0. 1. 0.]\n",
            " [0. 0. 0. 0. 1.]]\n"
          ]
        }
      ]
    },
    {
      "cell_type": "code",
      "source": [
        "np.diag(identity_matrix)"
      ],
      "metadata": {
        "colab": {
          "base_uri": "https://localhost:8080/"
        },
        "id": "i2LDSI9ajK6z",
        "outputId": "893611bc-e98a-473d-a615-d074ed4d67bb"
      },
      "execution_count": 11,
      "outputs": [
        {
          "output_type": "execute_result",
          "data": {
            "text/plain": [
              "array([1., 1., 1., 1., 1.])"
            ]
          },
          "metadata": {},
          "execution_count": 11
        }
      ]
    },
    {
      "cell_type": "markdown",
      "source": [
        "**Q.9 Generate a numpy array of 100 random integers between 0 and 1000.Find and display all the prime numbers in this array.**"
      ],
      "metadata": {
        "id": "o7a51G-ojU4t"
      }
    },
    {
      "cell_type": "code",
      "source": [
        "ran_arr=np.random.randint(0,1000,size=100)\n",
        "print(\"Random Generated array are:\\n\",ran_arr)"
      ],
      "metadata": {
        "colab": {
          "base_uri": "https://localhost:8080/"
        },
        "id": "QcAKuB8KjvVB",
        "outputId": "8106deea-4341-4dd9-d59b-20e869c4d94e"
      },
      "execution_count": 12,
      "outputs": [
        {
          "output_type": "stream",
          "name": "stdout",
          "text": [
            "Random Generated array are:\n",
            " [394 217 679 963 343 179 505 282 969 671 586 320 308 124 185  26 778 266\n",
            " 643 761 460  68 639 145 910 267 265 621 452 888  89 253 315 473 613 665\n",
            " 132 947 316 276 165 453 910 889 571 484 185 597 420 365 729 732 545   8\n",
            " 967 655 536 816 962 916 730 658 919 867 909 194 719 290 260  94 473 312\n",
            " 651 887 512 923 842 401 213 866 394 234 932 115 274 905 702 802 547 459\n",
            " 630 484 485 626 602 776 996 317 315 866]\n"
          ]
        }
      ]
    },
    {
      "cell_type": "code",
      "source": [
        "def is_prime(n):\n",
        "  if n<2:\n",
        "    return False\n",
        "  for i in range(2,int (np.sqrt(n))+1):\n",
        "    if n% i==0:\n",
        "      return False\n",
        "  return True\n",
        "\n",
        "prime_number=[num for num in ran_arr if is_prime(num)]\n",
        "print(\"Prime numbers in the array are:\\n\",prime_number)\n",
        ""
      ],
      "metadata": {
        "colab": {
          "base_uri": "https://localhost:8080/"
        },
        "id": "3AQm5UjFkW0R",
        "outputId": "a0490c32-eea0-4fd4-bfa8-45ede2ef7d3a"
      },
      "execution_count": 17,
      "outputs": [
        {
          "output_type": "stream",
          "name": "stdout",
          "text": [
            "Prime numbers in the array are:\n",
            " [179, 643, 761, 89, 613, 947, 571, 967, 919, 719, 887, 401, 547, 317]\n"
          ]
        }
      ]
    },
    {
      "cell_type": "markdown",
      "source": [
        "**Q.10 create a 3x3 matrix with valuesnranging from 1 to 9.Then ,calculate the sum of each row and each column.**"
      ],
      "metadata": {
        "id": "2mNtWK22sLfb"
      }
    },
    {
      "cell_type": "code",
      "source": [
        "mat_rix=np.arange(1,10).reshape(3,3)\n",
        "print(\"Matrix :\\n\",mat_rix)"
      ],
      "metadata": {
        "colab": {
          "base_uri": "https://localhost:8080/"
        },
        "id": "pvLPDGiG1UAO",
        "outputId": "432c447a-8dfa-45b6-bbbc-a40faaefec30"
      },
      "execution_count": 24,
      "outputs": [
        {
          "output_type": "stream",
          "name": "stdout",
          "text": [
            "Matrix :\n",
            " [[1 2 3]\n",
            " [4 5 6]\n",
            " [7 8 9]]\n"
          ]
        }
      ]
    },
    {
      "cell_type": "code",
      "source": [
        "#Sum of each row\n",
        "np.sum(mat_rix,axis=1)"
      ],
      "metadata": {
        "colab": {
          "base_uri": "https://localhost:8080/"
        },
        "id": "7zZkByz_1poe",
        "outputId": "0d682895-5058-4f2b-ae1d-db0bbe2be456"
      },
      "execution_count": 25,
      "outputs": [
        {
          "output_type": "execute_result",
          "data": {
            "text/plain": [
              "array([ 6, 15, 24])"
            ]
          },
          "metadata": {},
          "execution_count": 25
        }
      ]
    },
    {
      "cell_type": "code",
      "source": [
        "#Sum of each column\n",
        "np.sum(mat_rix,axis=0)"
      ],
      "metadata": {
        "colab": {
          "base_uri": "https://localhost:8080/"
        },
        "id": "yC8CGkDt16sb",
        "outputId": "e6826ad1-d9cc-47a4-fc57-9c5f96207d0c"
      },
      "execution_count": 26,
      "outputs": [
        {
          "output_type": "execute_result",
          "data": {
            "text/plain": [
              "array([12, 15, 18])"
            ]
          },
          "metadata": {},
          "execution_count": 26
        }
      ]
    }
  ]
}