{
 "cells": [
  {
   "cell_type": "markdown",
   "metadata": {},
   "source": [
    "1. Describing string slicing and provide examples\n",
    "\n",
    "--> string slicing is a feature in python which allows us to access the substring from a string and use it for different purposes and in different ways.\n",
    "\n",
    "Example: Extracting a substring from a string , reversing the string , finding a character at a specific position, and skipping characters in a string etc.\n",
    "like: "
   ]
  },
  {
   "cell_type": "code",
   "execution_count": 5,
   "metadata": {},
   "outputs": [
    {
     "name": "stdout",
     "output_type": "stream",
     "text": [
      "R\n",
      "vahsiR\n"
     ]
    }
   ],
   "source": [
    "str=\"Rishav\"\n",
    "print(str[0])\n",
    "print(str[::-1])\n"
   ]
  },
  {
   "cell_type": "markdown",
   "metadata": {},
   "source": [
    "2. Explain the key-features of list in python.\n",
    "\n",
    "--> Lists in Python are mutable, meaning they can be changed after they are created. Lists are ordered collections of items, and they can contain any type of object. Lists are enclosed in square brackets[].we can do somwe  basic functions like : Creating a list, adding elements to a list, deleting elements from a list, and accessing elements from a list ,list slicing."
   ]
  },
  {
   "cell_type": "code",
   "execution_count": 7,
   "metadata": {},
   "outputs": [
    {
     "name": "stdout",
     "output_type": "stream",
     "text": [
      "1\n",
      "[8, 8, 67, 45, 3, 2, 1]\n",
      "[23, 2, 3, 45, 67, 8, 8]\n"
     ]
    }
   ],
   "source": [
    "lst=[1,2,3,45,67,8,8]\n",
    "\n",
    "print(lst[0])\n",
    "print(lst[::-1])\n",
    "lst[0]=23\n",
    "print(lst)"
   ]
  },
  {
   "cell_type": "markdown",
   "metadata": {},
   "source": [
    "3. Describe how to access, modify, and delete elements in a list with examples\n",
    "\n",
    "--> Accessing the element:- we can access the element by accessing the index from 0 like,[0] in this manner.\n",
    "    lst=[1,2,3,45,67,8,8]\n",
    "    print(lst[0])\n",
    "\n",
    "    Modifying the Element:- we can modify an element by accessing its index and assigning a new value to it. For example:\n",
    "        lst[0] = 23\n",
    "        print(lst)\n",
    "\n",
    "        Deleting the Element:- we can delete an element by using the `del` statement or the `remove()` method. For example:\n",
    "            del lst[0]\n",
    "            print(lst)\n",
    "            \n",
    "            lst.remove(45)\n",
    "            print(lst)\n"
   ]
  },
  {
   "cell_type": "code",
   "execution_count": 8,
   "metadata": {},
   "outputs": [
    {
     "name": "stdout",
     "output_type": "stream",
     "text": [
      "1\n",
      "[23, 2, 3, 45, 67, 8, 8]\n",
      "[2, 3, 45, 67, 8, 8]\n",
      "[2, 3, 67, 8, 8]\n"
     ]
    }
   ],
   "source": [
    "lst=[1,2,3,45,67,8,8]\n",
    "print(lst[0])\n",
    "lst[0] = 23\n",
    "print(lst)\n",
    "del lst[0]\n",
    "print(lst)\n",
    "            \n",
    "lst.remove(45)\n",
    "print(lst)\n",
    "\n"
   ]
  },
  {
   "cell_type": "markdown",
   "metadata": {},
   "source": [
    "4. Compare and contrast tuples and lists with examples\n",
    "\n",
    "--> list and tuples both are same at some point like tuples are the immutable list , they both contain list of       anything of any data type but we can change the  list after creating but we cant change the tuple after creating.\n",
    "if we want to change the tuple then we need to first convert it into list and then change and then again convert it as tuple .lists are known to change so we use list where we want to change the data , but tuples are used where the data is set already there is no need to change the element.list is intitialised by sq. braces [] , but tuples are initialised using paranthesis().\n",
    "\n",
    "tuple1 = (1, 2, 3, 4, 5)\n",
    "list1 = [1, 2, 3, 4, 5]\n"
   ]
  },
  {
   "cell_type": "markdown",
   "metadata": {},
   "source": [
    "5. Describe the key features of sets and provide examples of their use.\n",
    "\n",
    "-->set is a group of unordered unique elements.it doesnt contain any duplicate elements , and having the unordered elements . we can not aceess the elements of set using the index  , however we only aceess the element using iteration or loop. we can add and delete the elements in a set using add and remove func respectively.so, it is mutable.we can do some mathematical thins using set like union , intersection etc."
   ]
  },
  {
   "cell_type": "code",
   "execution_count": 16,
   "metadata": {},
   "outputs": [
    {
     "data": {
      "text/plain": [
       "{2, 3, 4, 5, 6, 9, 46, 78, 79, 100}"
      ]
     },
     "execution_count": 16,
     "metadata": {},
     "output_type": "execute_result"
    }
   ],
   "source": [
    "s1 = {65, 2, 3, 4, 5, 6, 9, 78, 79, 46}\n",
    "s1\n",
    "s1.add(100)\n",
    "s1.remove(65)\n",
    "s1\n"
   ]
  },
  {
   "cell_type": "markdown",
   "metadata": {},
   "source": [
    "6. Discuss the use cases of tuples and sets in Python programming\n",
    "\n",
    "--> tuples are used when we want to store multiple items of the same type, but we don't want to modify them. For example, in a student record, we might have a tuple of (name, age, grade). Sets are used when we want to store multiple items, but we don't want any duplicates. For example, in a shopping cart, we might have a set of (product, quantity). Sets are useful for operations like finding the intersection of two sets, checking if an item is in a set, and removing duplicates.\n"
   ]
  },
  {
   "cell_type": "markdown",
   "metadata": {},
   "source": [
    "7. Describe how to add, modify, and delete items in a dictionary with examples\n",
    "\n",
    "--> Adding an item to a dictionary: We can add a new key-value pair to a dictionary using the dict[key] = value syntax. \n",
    "\n",
    "Modifying an item in a dictionary: We can modify the value of an existing key by assigning a new value to it. \n",
    "\n",
    "Deleting an item from a dictionary: We can delete an item from a dictionary using the 'del'  statement or the pop() method. \n",
    "\n"
   ]
  },
  {
   "cell_type": "code",
   "execution_count": 17,
   "metadata": {},
   "outputs": [
    {
     "name": "stdout",
     "output_type": "stream",
     "text": [
      "{'name': 'John', 'age': 30}\n",
      "{'name': 'John', 'age': 30, 'city': 'Delhi'}\n",
      "{'name': 'John', 'age': 40, 'city': 'Delhi'}\n",
      "{'name': 'John', 'city': 'Delhi'}\n"
     ]
    }
   ],
   "source": [
    "my_dict = {'name': 'John', 'age': 30}\n",
    "print(my_dict)\n",
    "my_dict[\"city\"]=\"Delhi\"\n",
    "print(my_dict)\n",
    "my_dict[\"age\"]=40\n",
    "print(my_dict)\n",
    "del my_dict['age']\n",
    "print(my_dict)"
   ]
  },
  {
   "cell_type": "markdown",
   "metadata": {},
   "source": [
    "8. Discuss the importance of dictionary keys being immutable and provide examples\n",
    "\n",
    "--> Dictionary keys in Python must be immutable, which means they can't be changed after they are created. This means that we can't use a list, a set, or a dictionary as a key. Instead, we can use a tuple or a frozenset.\n",
    "\n",
    "Examples:\n",
    "\n"
   ]
  },
  {
   "cell_type": "code",
   "execution_count": 18,
   "metadata": {},
   "outputs": [
    {
     "name": "stdout",
     "output_type": "stream",
     "text": [
      "{('name', 'John'): 'Delhi', ('age', 30): 'USA', ('name', 'Jane'): 'New York', ('city', 'Delhi'): 'India'}\n"
     ]
    }
   ],
   "source": [
    "my_dict = {('name', 'John'): 'Delhi', ('age', 30): 'India'}\n",
    "my_dict[('name', 'Jane')] = 'New York'\n",
    "my_dict[('age', 30)] = 'USA'\n",
    "my_dict[('city', 'Delhi')] = 'India'\n",
    "\n",
    "print(my_dict)\n"
   ]
  }
 ],
 "metadata": {
  "kernelspec": {
   "display_name": "Python 3",
   "language": "python",
   "name": "python3"
  },
  "language_info": {
   "codemirror_mode": {
    "name": "ipython",
    "version": 3
   },
   "file_extension": ".py",
   "mimetype": "text/x-python",
   "name": "python",
   "nbconvert_exporter": "python",
   "pygments_lexer": "ipython3",
   "version": "3.12.7"
  }
 },
 "nbformat": 4,
 "nbformat_minor": 2
}
