{
 "cells": [
  {
   "cell_type": "markdown",
   "metadata": {},
   "source": [
    "1. explain the key features of Python that make it a popular choice for  programming\n",
    "\n",
    "Python is a versatile,  high-level, general-purpose programming language. It has several key features that make it a popular choice for programming:\n",
    "\n",
    "1. Readability\n",
    "2. Easy to learn\n",
    "3. Simple syntax\n",
    "4. widely used\n",
    "5. Extensive libraries and frameworks\n",
    "6. Community support and resources\n",
    "  "
   ]
  },
  {
   "cell_type": "markdown",
   "metadata": {},
   "source": [
    "2. Describe the role of predefined keywords in Python and provide examples of how they are used in a\n",
    "program.\n",
    "\n",
    "Predefined keywords in Python are special identifiers that have a predefined meaning and cannot be used as variable names or function name.\n",
    "some examples are:\n",
    "1. True\n",
    "2. False\n",
    "3. None\n",
    "4. and\n",
    "5. or\n"
   ]
  },
  {
   "cell_type": "markdown",
   "metadata": {},
   "source": [
    "3. Compare and contrast mutable and immutable objects in Python with examples.\n",
    "\n",
    "Mutable objects in Python can be changed after they are created. Examples lists, dictionaries, and user-defined objects.\n",
    "Immutable objects in Python cannot be changed after they are created. Examples  numbers (int, float, complex), strings, and tuples.\n"
   ]
  },
  {
   "cell_type": "markdown",
   "metadata": {},
   "source": [
    "4.  Discuss the different types of operators in Python and provide examples of how they are used\n",
    "\n",
    "Operators in Python are used to perform operations on variables and values. so these are some operators:\n",
    "1. Arithmetic operators (+, -, *, /, %, //)\n",
    "2. Assignment operators (=, +=, -=, *=, /=, %=, //=)\n",
    "3. Comparison operators (==, !=, >, <, >=, <=)\n",
    "4. Logical operators (and, or, not)\n",
    "5. Bitwise operators (&, |, ~, ^, <<, >>)\n",
    "\n"
   ]
  },
  {
   "cell_type": "markdown",
   "metadata": {},
   "source": [
    "5. explain the concept of type casting in Python with examples.\n",
    "\n",
    "Type casting in Python is the process of converting one data type to another. It is done using built-in functions. There are two types of type casting: \n",
    "\n",
    "Implicit type casting (automatically done by the Python interpreter): 2+3.5=5.5\n",
    "Explicit type casting (manually done by the programmer): str(10) = '10'\n"
   ]
  },
  {
   "cell_type": "markdown",
   "metadata": {},
   "source": [
    "6. How do conditional statements work in Python? Illustrate with examples\n",
    "\n",
    "Conditional statements in Python are used to control the flow of a program by adding dsome condition.\n",
    "1. if statement: if x > 0: print('x is positive')\n",
    "2. if-else statement: if x > 0: print('x is positive') else: print('x is negative')\n"
   ]
  },
  {
   "cell_type": "markdown",
   "metadata": {},
   "source": [
    "7. Describe the different types of loops in Python and their use cases with examples.\n",
    "\n",
    "Loops in Python are used to repeat a block of code a specified number of times or until a certain condition is met.\n",
    "1. while loop: i = 0; while i < 5: print(i); i += 1\n",
    "2. for loop: for i in range(5): print(i)\n",
    "3. nested loop : for i in range(5): for j in range(5):print(i*j)\n"
   ]
  }
 ],
 "metadata": {
  "language_info": {
   "name": "python"
  }
 },
 "nbformat": 4,
 "nbformat_minor": 2
}
