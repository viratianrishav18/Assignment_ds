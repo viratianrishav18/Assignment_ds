{
  "nbformat": 4,
  "nbformat_minor": 0,
  "metadata": {
    "colab": {
      "provenance": []
    },
    "kernelspec": {
      "name": "python3",
      "display_name": "Python 3"
    },
    "language_info": {
      "name": "python"
    }
  },
  "cells": [
    {
      "cell_type": "markdown",
      "source": [
        "#**1. What are the five key concepts of Object-Oriented Programming (OOP)?**\n",
        "\n",
        "The five key concepts of Object-Oriented Programming (OOP) are:\n",
        "\n",
        "Encapsulation: This is the bundling of data and methods that operate on that data within a single unit, or class. It restricts direct access to some of the object's components, which helps prevent unintended interference and misuse.\n",
        "\n",
        "Abstraction: Abstraction involves simplifying complex reality by modeling classes based on the essential properties and behaviors an object should have. It focuses on hiding the complex implementation details and showing only the necessary features.\n",
        "\n",
        "Inheritance: This allows a new class (subclass or derived class) to inherit properties and methods from an existing class (superclass or base class). It promotes code reusability and establishes a natural hierarchy between classes.\n",
        "\n",
        "Polymorphism: Polymorphism allows methods to do different things based on the object it is acting upon, even if they share the same name. This can be achieved through method overriding (in subclasses) and method overloading (same method name with different parameters).\n",
        "\n",
        "Composition: This concept involves building complex types by combining objects (instances of classes) to form a more complex structure. It emphasizes a \"has-a\" relationship, allowing for more flexible and reusable code.\n",
        "\n",
        "These concepts work together to create a more organized, modular, and reusable codebase."
      ],
      "metadata": {
        "id": "qLxlBXpnPWE4"
      }
    },
    {
      "cell_type": "markdown",
      "source": [
        "#**2. Write a Python class for a `Car` with attributes for `make`, `model`, and `year`. Include a method to display the car's information.**\n",
        "\n",
        "In this class:\n",
        "\n",
        "The __init__ method initializes the make, model, and year attributes.\n",
        "The display_info method prints out the car's details in a formatted manner.\n",
        "You can create an instance of the Car class and call the display_info method to see the car's information.\n",
        "\n",
        "\n",
        "\n"
      ],
      "metadata": {
        "id": "nulNTjvsQupG"
      }
    },
    {
      "cell_type": "code",
      "source": [
        "class Car:\n",
        "    def __init__(self, make, model, year):\n",
        "        self.make = make\n",
        "        self.model = model\n",
        "        self.year = year\n",
        "\n",
        "    def display_info(self):\n",
        "        print(f\"Car Information:\\nMake: {self.make}\\nModel: {self.model}\\nYear: {self.year}\")\n",
        "\n",
        "my_car = Car(\"Bugatti\", \"Chiron\", 2016)\n",
        "my_car.display_info()"
      ],
      "metadata": {
        "colab": {
          "base_uri": "https://localhost:8080/"
        },
        "id": "PF5cSAIHRIFM",
        "outputId": "3eb45778-5603-47ca-afd2-4ebce8cd80cc"
      },
      "execution_count": null,
      "outputs": [
        {
          "output_type": "stream",
          "name": "stdout",
          "text": [
            "Car Information:\n",
            "Make: BUgatti\n",
            "Model: Chiron\n",
            "Year: 2016\n"
          ]
        }
      ]
    },
    {
      "cell_type": "code",
      "source": [
        "class Car:\n",
        "    def __init__(self, make, model, year):\n",
        "        self.make = make\n",
        "        self.model = model\n",
        "        self.year = year\n",
        "\n",
        "    def display_info(self):\n",
        "        print(f\"Car Information:\\nMake: {self.make}\\nModel: {self.model}\\nYear: {self.year}\")\n",
        "\n",
        "my_car = Car(\"Ford\", \"Mustang\", 1965)\n",
        "my_car.display_info()"
      ],
      "metadata": {
        "colab": {
          "base_uri": "https://localhost:8080/"
        },
        "id": "zvvp600ESCW9",
        "outputId": "caf8a62d-b2a2-48eb-9bce-8220f529b6fd"
      },
      "execution_count": null,
      "outputs": [
        {
          "output_type": "stream",
          "name": "stdout",
          "text": [
            "Car Information:\n",
            "Make: Ford\n",
            "Model: Mustang\n",
            "Year: 1965\n"
          ]
        }
      ]
    },
    {
      "cell_type": "markdown",
      "source": [
        "#**3. Explain the difference between instance methods and class methods. Provide an example of each.**\n",
        "\n",
        "In Python, instance methods and class methods are two types of methods that serve different purposes.\n",
        "\n",
        "#Instance Methods:\n",
        "Instance methods are defined within a class and operate on instances (objects) of that class. They take self as the first parameter, which refers to the instance calling the method.\n",
        "Usage: These methods can access and modify instance attributes.\n",
        "\n",
        "#Example:\n"
      ],
      "metadata": {
        "id": "qpFpMbJpSI6Q"
      }
    },
    {
      "cell_type": "code",
      "source": [
        "class Cat:\n",
        "    def __init__(self, name):\n",
        "        self.name = name\n",
        "\n",
        "    def meow(self):\n",
        "        return f\"{self.name} says Meow!\"\n",
        "\n",
        "my_cat = Cat(\"Lulu\")\n",
        "print(my_cat.meow())"
      ],
      "metadata": {
        "colab": {
          "base_uri": "https://localhost:8080/"
        },
        "id": "B0Ovb3hQSmVh",
        "outputId": "28dff6e2-e197-4a5a-8a6d-62b56865de74"
      },
      "execution_count": null,
      "outputs": [
        {
          "output_type": "stream",
          "name": "stdout",
          "text": [
            "Lulu says Meow!\n"
          ]
        }
      ]
    },
    {
      "cell_type": "markdown",
      "source": [
        "#Class Methods:\n",
        "Class methods are defined using the @classmethod decorator and take cls as the first parameter, which refers to the class itself rather than an instance. They can be called on the class itself or on instances of the class.\n",
        "Usage: Class methods are often used for factory methods that can create instances of the class or to access class attributes.\n",
        "\n",
        "#Example:\n"
      ],
      "metadata": {
        "id": "KCzNnJdqSmuu"
      }
    },
    {
      "cell_type": "code",
      "source": [
        "class Cat:\n",
        "    number_of_legs = 4\n",
        "\n",
        "    @classmethod\n",
        "    def get_legs(cls):\n",
        "        return cls.number_of_legs\n",
        "\n",
        "# Example usage\n",
        "print(Cat.get_legs())"
      ],
      "metadata": {
        "colab": {
          "base_uri": "https://localhost:8080/"
        },
        "id": "DxLOL-i7TPU6",
        "outputId": "48be6381-9d6f-4b7a-c063-6851c37b2c94"
      },
      "execution_count": null,
      "outputs": [
        {
          "output_type": "stream",
          "name": "stdout",
          "text": [
            "4\n"
          ]
        }
      ]
    },
    {
      "cell_type": "markdown",
      "source": [
        "Summary of Differences:\n",
        "\n",
        "Instance Methods:\n",
        "\n",
        "Operate on individual instances.\n",
        "Use self to access instance attributes.\n",
        "\n",
        "Class Methods:\n",
        "\n",
        "Operate on the class itself.\n",
        "Use cls to access class attributes.\n",
        "Both types of methods are important for different scenarios in OOPS.\n",
        "\n",
        "\n",
        "\n"
      ],
      "metadata": {
        "id": "XLDy0SmoTahA"
      }
    },
    {
      "cell_type": "markdown",
      "source": [
        "#**4. How does Python implement method overloading? Give an example.**\n",
        "\n",
        "Python does not support traditional method overloading like some other languages (e.g., Java or C++), where you can define multiple methods with the same name but different parameter types or counts. Instead, Python allows you to achieve similar functionality through default arguments, variable-length arguments, or by using a single method that handles different types of inputs.\n",
        "\n",
        "#Example of Method Overloading using Default Arguments:\n"
      ],
      "metadata": {
        "id": "7xhtDE2FTo--"
      }
    },
    {
      "cell_type": "code",
      "source": [
        "class Calculator:\n",
        "    def add(self, a, b, c=0):\n",
        "        return a + b + c\n",
        "\n",
        "calc = Calculator()\n",
        "\n",
        "result1 = calc.add(2, 3)\n",
        "print(result1)\n",
        "\n",
        "result2 = calc.add(2, 3, 4)\n",
        "print(result2)"
      ],
      "metadata": {
        "colab": {
          "base_uri": "https://localhost:8080/"
        },
        "id": "HYXTPBGvUn5Q",
        "outputId": "5289b642-70cd-4c39-d9d0-d71310c03dc2"
      },
      "execution_count": null,
      "outputs": [
        {
          "output_type": "stream",
          "name": "stdout",
          "text": [
            "5\n",
            "9\n"
          ]
        }
      ]
    },
    {
      "cell_type": "markdown",
      "source": [
        "#Example of Method Overloading using Variable-Length Arguments:"
      ],
      "metadata": {
        "id": "BP2XJuS5VLQP"
      }
    },
    {
      "cell_type": "code",
      "source": [
        "class Calculator:\n",
        "    def add(self, *args):\n",
        "        return sum(args)\n",
        "\n",
        "calc = Calculator()\n",
        "\n",
        "result1 = calc.add(1, 2)\n",
        "print(result1)\n",
        "\n",
        "result2 = calc.add(1, 2, 3, 4)\n",
        "print(result2)"
      ],
      "metadata": {
        "colab": {
          "base_uri": "https://localhost:8080/"
        },
        "id": "X2cpvCgTVYad",
        "outputId": "3d8c50e9-c8b6-47c1-8595-a0602467cb71"
      },
      "execution_count": null,
      "outputs": [
        {
          "output_type": "stream",
          "name": "stdout",
          "text": [
            "3\n",
            "10\n"
          ]
        }
      ]
    },
    {
      "cell_type": "markdown",
      "source": [
        "Method overloading is not explicitly supported, but you can achieve similar behavior using default arguments or variable-length arguments.\n",
        "\n",
        "This allows a single method to handle multiple types or numbers of parameters gracefully."
      ],
      "metadata": {
        "id": "apom3rBwVmLa"
      }
    },
    {
      "cell_type": "markdown",
      "source": [
        "#**5. What are the three types of access modifiers in Python? How are they denoted?**\n",
        "In Python, access modifiers control the visibility and accessibility of class attributes and methods. There are three main types of access modifiers:\n",
        "\n",
        "#1. Public:\n",
        "\n",
        "Public members (attributes or methods) are accessible from anywhere, both inside and outside the class.\n",
        "Denotation: No special symbol is used; they are defined normally.\n",
        "\n",
        "#Example:"
      ],
      "metadata": {
        "id": "9mRSJmtu3Wvh"
      }
    },
    {
      "cell_type": "code",
      "source": [
        "class MyClass:\n",
        "    def __init__(self):\n",
        "        self.busy_attribute = \"I am busy\"\n",
        "\n",
        "obj = MyClass()\n",
        "print(obj.busy_attribute)"
      ],
      "metadata": {
        "colab": {
          "base_uri": "https://localhost:8080/"
        },
        "id": "1DOC0j5s5B0f",
        "outputId": "063f8652-708b-4dd0-98e6-a3503b0a31e0"
      },
      "execution_count": null,
      "outputs": [
        {
          "output_type": "stream",
          "name": "stdout",
          "text": [
            "I am busy\n"
          ]
        }
      ]
    },
    {
      "cell_type": "markdown",
      "source": [
        "#2. Protected:\n",
        "\n",
        " Protected members are intended to be accessible within the class and by subclasses (derived classes). They are not meant to be accessed from outside the class hierarchy.\n",
        "\n",
        "* Denoted by a single underscore prefix (_).\n",
        "\n",
        "#Example:"
      ],
      "metadata": {
        "id": "wkXnyD-P5YeO"
      }
    },
    {
      "cell_type": "code",
      "source": [
        "class MyClass:\n",
        "    def __init__(self):\n",
        "        self._protected_attribute = \"I am protected\"\n",
        "\n",
        "class SubClass(MyClass):\n",
        "    def access_protected(self):\n",
        "        return self._protected_attribute\n",
        "\n",
        "obj = SubClass()\n",
        "print(obj.access_protected())"
      ],
      "metadata": {
        "colab": {
          "base_uri": "https://localhost:8080/"
        },
        "id": "1dVScPKU5zXu",
        "outputId": "1d532a1b-d4e9-4d84-f8c2-54aa369da347"
      },
      "execution_count": null,
      "outputs": [
        {
          "output_type": "stream",
          "name": "stdout",
          "text": [
            "I am protected\n"
          ]
        }
      ]
    },
    {
      "cell_type": "markdown",
      "source": [
        "#3. Private:\n",
        " Private members are intended to be accessible only within the class in which they are defined. They are not accessible from subclasses or outside the class.\n",
        "* Denoted by a double underscore prefix (__).\n",
        "\n",
        "#Example:"
      ],
      "metadata": {
        "id": "KOAZ5b6D58TZ"
      }
    },
    {
      "cell_type": "code",
      "source": [
        "class MyClass:\n",
        "    def __init__(self):\n",
        "        self.__private_attribute = \"I am private\"\n",
        "\n",
        "    def get_private(self):\n",
        "        return self.__private_attribute\n",
        "\n",
        "obj = MyClass()\n",
        "print(obj.get_private())"
      ],
      "metadata": {
        "colab": {
          "base_uri": "https://localhost:8080/"
        },
        "id": "TgeEGwJl6GV9",
        "outputId": "34e4d6ce-0fa6-42d5-c2eb-665a35cc8635"
      },
      "execution_count": null,
      "outputs": [
        {
          "output_type": "stream",
          "name": "stdout",
          "text": [
            "I am private\n"
          ]
        }
      ]
    },
    {
      "cell_type": "markdown",
      "source": [
        "#**6. Describe the five types of inheritance in Python. Provide a simple example of multiple inheritance.**\n",
        "\n",
        "In Python, inheritance allows a class (child or derived class) to inherit attributes and methods from another class (parent or base class). There are five main types of inheritance:\n",
        "\n",
        "#1. Single Inheritance:\n",
        "A derived class inherits from a single base class.\n",
        "\n",
        "#Example:"
      ],
      "metadata": {
        "id": "ZzLcPjZJ6QcV"
      }
    },
    {
      "cell_type": "code",
      "source": [
        "class Animal:\n",
        "    def speak(self):\n",
        "        return \"Animal speaks\"\n",
        "\n",
        "class Dog(Animal):\n",
        "    def bark(self):\n",
        "        return \"Dog barks\"\n",
        "\n",
        "dog = Dog()\n",
        "print(dog.speak())"
      ],
      "metadata": {
        "colab": {
          "base_uri": "https://localhost:8080/"
        },
        "id": "X4mdcnpm7MtJ",
        "outputId": "8d2a9c50-6892-493f-8772-11689e5f4d16"
      },
      "execution_count": null,
      "outputs": [
        {
          "output_type": "stream",
          "name": "stdout",
          "text": [
            "Animal speaks\n"
          ]
        }
      ]
    },
    {
      "cell_type": "markdown",
      "source": [
        "#2. Multiple Inheritance:\n",
        "\n",
        "A derived class inherits from multiple base classes.\n",
        "\n",
        "#Example:"
      ],
      "metadata": {
        "id": "k2Lf5UAN7YY8"
      }
    },
    {
      "cell_type": "code",
      "source": [
        "class Father:\n",
        "    def traits(self):\n",
        "        return \"Father's traits\"\n",
        "\n",
        "class Mother:\n",
        "    def traits(self):\n",
        "        return \"Mother's traits\"\n",
        "\n",
        "class Child(Mother, Father):\n",
        "    def show_traits(self):\n",
        "        return f\"{self.traits()} and Child's traits\"\n",
        "\n",
        "child = Child()\n",
        "print(child.show_traits())"
      ],
      "metadata": {
        "colab": {
          "base_uri": "https://localhost:8080/"
        },
        "id": "LG6t4qgB7fDj",
        "outputId": "9edd3c21-fabb-4ea2-b01b-fea7df2ae2bd"
      },
      "execution_count": null,
      "outputs": [
        {
          "output_type": "stream",
          "name": "stdout",
          "text": [
            "Mother's traits and Child's traits\n"
          ]
        }
      ]
    },
    {
      "cell_type": "markdown",
      "source": [
        "#3. Multilevel Inheritance:\n",
        "\n",
        "A derived class inherits from another derived class, forming a chain.\n",
        "\n",
        "#Example:"
      ],
      "metadata": {
        "id": "1DsoFJ9X7-PK"
      }
    },
    {
      "cell_type": "code",
      "source": [
        "class Animal:\n",
        "    def speak(self):\n",
        "        return \"Animal speaks\"\n",
        "\n",
        "class Dog(Animal):\n",
        "    def bark(self):\n",
        "        return \"Dog barks\"\n",
        "\n",
        "class Puppy(Dog):\n",
        "    def weep(self):\n",
        "        return \"Puppy weeps\"\n",
        "\n",
        "puppy = Puppy()\n",
        "print(puppy.speak())\n"
      ],
      "metadata": {
        "colab": {
          "base_uri": "https://localhost:8080/"
        },
        "id": "oIUqy7Fb8EHh",
        "outputId": "71d06ff7-6c47-42e9-e633-2485ce3a3e09"
      },
      "execution_count": null,
      "outputs": [
        {
          "output_type": "stream",
          "name": "stdout",
          "text": [
            "Animal speaks\n"
          ]
        }
      ]
    },
    {
      "cell_type": "markdown",
      "source": [
        "#4. Hierarchical Inheritance:\n",
        "\n",
        "Multiple derived classes inherit from a single base class.\n",
        "\n",
        "#Example:"
      ],
      "metadata": {
        "id": "vQoMYAmX8R5_"
      }
    },
    {
      "cell_type": "code",
      "source": [
        "class Animal:\n",
        "    def speak(self):\n",
        "        return \"Animal speaks\"\n",
        "\n",
        "class Dog(Animal):\n",
        "    def bark(self):\n",
        "        return \"Dog barks\"\n",
        "\n",
        "class Cat(Animal):\n",
        "    def meow(self):\n",
        "        return \"Cat meows\"\n",
        "\n",
        "dog = Dog()\n",
        "cat = Cat()\n",
        "print(dog.speak())\n",
        "print(cat.speak())\n"
      ],
      "metadata": {
        "colab": {
          "base_uri": "https://localhost:8080/"
        },
        "id": "gmt2dh7e8PfB",
        "outputId": "c908d048-ad57-439e-825e-44a80709ef40"
      },
      "execution_count": null,
      "outputs": [
        {
          "output_type": "stream",
          "name": "stdout",
          "text": [
            "Animal speaks\n",
            "Animal speaks\n"
          ]
        }
      ]
    },
    {
      "cell_type": "markdown",
      "source": [
        "#5. Hybrid Inheritance:\n",
        "\n",
        "A combination of two or more types of inheritance.\n",
        "\n",
        "#Example:"
      ],
      "metadata": {
        "id": "o-_7cxe68o72"
      }
    },
    {
      "cell_type": "code",
      "source": [
        "class Animal:\n",
        "    def speak(self):\n",
        "        return \"Animal speaks\"\n",
        "\n",
        "class Mammal(Animal):\n",
        "    def walk(self):\n",
        "        return \"Mammal walks\"\n",
        "\n",
        "class Bird(Animal):\n",
        "    def fly(self):\n",
        "        return \"Bird flies\"\n",
        "\n",
        "class Bat(Mammal, Bird):\n",
        "    def echo_location(self):\n",
        "        return \"Bat uses echolocation\"\n",
        "\n",
        "# Usage\n",
        "bat = Bat()\n",
        "print(bat.speak())\n",
        "print(bat.walk())\n",
        "print(bat.fly())\n"
      ],
      "metadata": {
        "colab": {
          "base_uri": "https://localhost:8080/"
        },
        "id": "qJfAw8nS8oJQ",
        "outputId": "b04026fc-ef5e-4365-8c6a-7648ed6dfa9c"
      },
      "execution_count": null,
      "outputs": [
        {
          "output_type": "stream",
          "name": "stdout",
          "text": [
            "Animal speaks\n",
            "Mammal walks\n",
            "Bird flies\n"
          ]
        }
      ]
    },
    {
      "cell_type": "markdown",
      "source": [
        "#**7. What is the Method Resolution Order (MRO) in Python? How can you retrieve it programmatically?**\n",
        "The Method Resolution Order (MRO) in Python is the order in which base classes are looked up when searching for a method or attribute.\n",
        "\n",
        "This is particularly important in the context of multiple inheritance, where a class can inherit from multiple parent classes.\n",
        "\n",
        "The MRO defines the order in which classes are traversed to find a method, ensuring a consistent and predictable approach.\n",
        "\n",
        "#How MRO Works:\n",
        "Python uses an algorithm called C3 linearization to determine the MRO. This algorithm considers:\n",
        "\n",
        "1. The order of base classes.\n",
        "2. The dependencies between classes.\n",
        "3. Ensures that a class is not processed before its dependencies.\n",
        "\n",
        "#Retrieving MRO Programmatically:\n",
        "You can retrieve the MRO of a class using the mro() method or the __mro__ attribute.\n",
        "\n",
        "#Example:"
      ],
      "metadata": {
        "id": "pGyNZu3_9FsW"
      }
    },
    {
      "cell_type": "code",
      "source": [
        "class A:\n",
        "    pass\n",
        "\n",
        "class B(A):\n",
        "    pass\n",
        "\n",
        "class C(A):\n",
        "    pass\n",
        "\n",
        "class D(B, C):\n",
        "    pass\n",
        "\n",
        "print(D.mro())\n",
        "print(D.__mro__)"
      ],
      "metadata": {
        "colab": {
          "base_uri": "https://localhost:8080/"
        },
        "id": "Gxa-9FM0805I",
        "outputId": "fe071eea-483e-4b66-d63d-71bccacff4f3"
      },
      "execution_count": null,
      "outputs": [
        {
          "output_type": "stream",
          "name": "stdout",
          "text": [
            "[<class '__main__.D'>, <class '__main__.B'>, <class '__main__.C'>, <class '__main__.A'>, <class 'object'>]\n",
            "(<class '__main__.D'>, <class '__main__.B'>, <class '__main__.C'>, <class '__main__.A'>, <class 'object'>)\n"
          ]
        }
      ]
    },
    {
      "cell_type": "markdown",
      "source": [
        "#**8. Create an abstract base class `Shape` with an abstract method `area()`. Then create two subclasses `Circle` and `Rectangle` that implement the `area()` method.**\n",
        "\n",
        "\n",
        "To create an abstract base class in Python, abc module can be used, which provides infrastructure for defining Abstract Base Classes (ABCs).\n",
        "\n",
        "Below is an example of an abstract base class Shape with an abstract method area(), along with two subclasses Circle and Rectangle that implement this method.\n",
        "\n",
        "#Example:"
      ],
      "metadata": {
        "id": "gFpKUSCGizYM"
      }
    },
    {
      "cell_type": "code",
      "source": [
        "from abc import ABC, abstractmethod\n",
        "import math\n",
        "\n",
        "class Shape(ABC):\n",
        "    @abstractmethod\n",
        "    def area(self):\n",
        "        pass\n",
        "\n",
        "class Circle(Shape):\n",
        "    def __init__(self, radius):\n",
        "        self.radius = radius\n",
        "\n",
        "    def area(self):\n",
        "        return math.pi * (self.radius ** 2)\n",
        "\n",
        "class Rectangle(Shape):\n",
        "    def __init__(self, width, height):\n",
        "        self.width = width\n",
        "        self.height = height\n",
        "\n",
        "    def area(self):\n",
        "        return self.width * self.height\n",
        "\n",
        "if __name__ == \"__main__\":\n",
        "    circle = Circle(5)\n",
        "    rectangle = Rectangle(4, 6)\n",
        "\n",
        "    print(f\"Circle area: {circle.area():.2f}\")\n",
        "    print(f\"Rectangle area: {rectangle.area():.2f}\")\n"
      ],
      "metadata": {
        "colab": {
          "base_uri": "https://localhost:8080/"
        },
        "id": "KYs2miEaoFhy",
        "outputId": "54b5957f-2994-4d1e-b50c-27ea34cb283d"
      },
      "execution_count": null,
      "outputs": [
        {
          "output_type": "stream",
          "name": "stdout",
          "text": [
            "Circle area: 78.54\n",
            "Rectangle area: 24.00\n"
          ]
        }
      ]
    },
    {
      "cell_type": "markdown",
      "source": [
        "#Explanation:\n",
        "\n",
        "#1. Abstract Base Class (Shape):\n",
        "\n",
        "* Defined using ABC as a base class.\n",
        "* Contains an abstract method area(), which must be implemented by any subclass.\n",
        "\n",
        "#2. Subclass (Circle):\n",
        "\n",
        "* Implements the area() method to calculate the area of a circle using the formula 𝜋𝑟2.\n",
        "\n",
        "#3. Subclass (Rectangle):\n",
        "\n",
        "* Implements the area() method to calculate the area of a rectangle using the formula width × height.\n",
        "\n",
        "#4. Example Usage:\n",
        "\n",
        "Instances of Circle and Rectangle are created, and their area() methods are called to compute the respective areas.\n",
        "\n",
        "This structure enforces that any new shape added as a subclass must implement the area() method, adhering to the principles of abstraction in object-oriented programming."
      ],
      "metadata": {
        "id": "A1M4wmlRo_td"
      }
    },
    {
      "cell_type": "markdown",
      "source": [
        "#**9. Demonstrate polymorphism by creating a function that can work with different shape objects to calculate and print their areas.**\n",
        "\n",
        "Polymorphism allows different classes to be treated as instances of the same class through a common interface. In this case, we can create a function that accepts various shape objects and calculates their areas, demonstrating polymorphism.\n",
        "\n",
        "Here's how you can implement this:"
      ],
      "metadata": {
        "id": "0BnSCi2qqMjv"
      }
    },
    {
      "cell_type": "code",
      "source": [
        "from abc import ABC, abstractmethod\n",
        "import math\n",
        "\n",
        "class Shape(ABC):\n",
        "    @abstractmethod\n",
        "    def area(self):\n",
        "        pass\n",
        "\n",
        "class Circle(Shape):\n",
        "    def __init__(self, radius):\n",
        "        self.radius = radius\n",
        "\n",
        "    def area(self):\n",
        "        return math.pi * (self.radius ** 2)\n",
        "\n",
        "class Rectangle(Shape):\n",
        "    def __init__(self, width, height):\n",
        "        self.width = width\n",
        "        self.height = height\n",
        "\n",
        "    def area(self):\n",
        "        return self.width * self.height\n",
        "\n",
        "def print_area(shape):\n",
        "    print(f\"The area of the shape is: {shape.area():.2f}\")\n",
        "\n",
        "if __name__ == \"__main__\":\n",
        "    circle = Circle(5)\n",
        "    rectangle = Rectangle(4, 6)\n",
        "\n",
        "    print_area(circle)\n",
        "    print_area(rectangle)"
      ],
      "metadata": {
        "colab": {
          "base_uri": "https://localhost:8080/"
        },
        "id": "WSz5rYdgqtKR",
        "outputId": "e26dd1de-a34c-44eb-c8b4-cf8a865bb437"
      },
      "execution_count": null,
      "outputs": [
        {
          "output_type": "stream",
          "name": "stdout",
          "text": [
            "The area of the shape is: 78.54\n",
            "The area of the shape is: 24.00\n"
          ]
        }
      ]
    },
    {
      "cell_type": "markdown",
      "source": [
        "#Explanation:\n",
        "#1. Abstract Base Class (Shape):\n",
        "\n",
        "* Defines the area() method that must be implemented by subclasses.\n",
        "\n",
        "#2.Subclasses (Circle and Rectangle):\n",
        "\n",
        "* Each implements the area() method to calculate its area.\n",
        "\n",
        "#3. print_area Function:\n",
        "\n",
        "* Takes a Shape object as an argument and calls its area() method, demonstrating polymorphism. It works with any object that is an instance of Shape or its subclasses.\n",
        "\n",
        "#4. Example Usage:\n",
        "\n",
        "* Instances of Circle and Rectangle are created.\n",
        "* The print_area function is called with different shape objects, showcasing how it can work with various types of shapes interchangeably.\n",
        "\n",
        "This example illustrates the concept of polymorphism, where the same function can operate on different types of objects.\n",
        "\n",
        "\n",
        "\n"
      ],
      "metadata": {
        "id": "yBLH9drxrSdo"
      }
    },
    {
      "cell_type": "markdown",
      "source": [
        "#**10. Implement encapsulation in a `BankAccount` class with private attributes for `balance` and `account_number`. Include methods for deposit, withdrawal, and balance inquiry.**\n",
        "\n",
        "Here’s an implementation of encapsulation in a BankAccount class using private attributes for balance and account_number.\n",
        "\n",
        "The class includes methods for depositing money, withdrawing money, and checking the balance."
      ],
      "metadata": {
        "id": "maiW4hH-sMyf"
      }
    },
    {
      "cell_type": "code",
      "source": [
        "class BankAccount:\n",
        "    def __init__(self, account_number):\n",
        "        self.__account_number = account_number\n",
        "        self.__balance = 0.0\n",
        "\n",
        "    def deposit(self, amount):\n",
        "        if amount > 0:\n",
        "            self.__balance += amount\n",
        "            print(f\"Deposited: ${amount:.2f}. New balance: ${self.__balance:.2f}.\")\n",
        "        else:\n",
        "            print(\"Deposit amount must be positive.\")\n",
        "\n",
        "    def withdraw(self, amount):\n",
        "        if 0 < amount <= self.__balance:\n",
        "            self.__balance -= amount\n",
        "            print(f\"Withdrew: ${amount:.2f}. New balance: ${self.__balance:.2f}.\")\n",
        "        else:\n",
        "            print(\"Insufficient funds or invalid withdrawal amount.\")\n",
        "\n",
        "    def get_balance(self):\n",
        "        return f\"Account Number: {self.__account_number}, Balance: ${self.__balance:.2f}\"\n",
        "\n",
        "if __name__ == \"__main__\":\n",
        "    account = BankAccount(\"123456789\")\n",
        "    account.deposit(1000)\n",
        "    account.withdraw(200)\n",
        "    print(account.get_balance())\n",
        "    account.withdraw(1000)"
      ],
      "metadata": {
        "colab": {
          "base_uri": "https://localhost:8080/"
        },
        "id": "5bXctRJXsUp9",
        "outputId": "d4cabb7f-c641-4fef-9e6c-0096b0d9c438"
      },
      "execution_count": null,
      "outputs": [
        {
          "output_type": "stream",
          "name": "stdout",
          "text": [
            "Deposited: $1000.00. New balance: $1000.00.\n",
            "Withdrew: $200.00. New balance: $800.00.\n",
            "Account Number: 123456789, Balance: $800.00\n",
            "Insufficient funds or invalid withdrawal amount.\n"
          ]
        }
      ]
    },
    {
      "cell_type": "markdown",
      "source": [
        "#Explanation:\n",
        "#1. Private Attributes:\n",
        "\n",
        "__account_number and __balance are defined with double underscores, making them private attributes that cannot be accessed directly from outside the class.\n",
        "\n",
        "#2. Methods:\n",
        "\n",
        "###deposit(amount):\n",
        "Increases the balance by the specified amount if it's positive.\n",
        "###withdraw(amount):\n",
        "Decreases the balance by the specified amount if there are sufficient funds and the amount is positive.\n",
        "###get_balance():\n",
        "Returns a string with the account number and the current balance.\n",
        "#3. Example Usage:\n",
        "\n",
        "* An instance of BankAccount is created.\n",
        "\n",
        "* The deposit and withdraw methods are called to modify the balance.\n",
        "\n",
        "* The get_balance method is used to check the current balance.\n",
        "\n",
        "\n",
        "This implementation demonstrates encapsulation by restricting direct access to the internal state of the BankAccount class, ensuring that the attributes can only be modified through the provided methods.\n",
        "\n",
        "\n",
        "\n"
      ],
      "metadata": {
        "id": "YsgfEnIfsk1-"
      }
    },
    {
      "cell_type": "markdown",
      "source": [
        "#**11. Write a class that overrides the `__str__` and `__add__` magic methods. What will these methods allow you to do?**\n",
        "\n",
        "\n",
        "In Python, the __str__ and __add__ magic methods allow you to customize the string representation of an object and define the behavior of the addition operator (+), respectively.\n",
        "\n",
        "#Example:"
      ],
      "metadata": {
        "id": "XPb3q_JatbUn"
      }
    },
    {
      "cell_type": "code",
      "source": [
        "class Vector:\n",
        "    def __init__(self, x, y):\n",
        "        self.x = x\n",
        "        self.y = y\n",
        "\n",
        "    def __str__(self):\n",
        "        return f\"Vector({self.x}, {self.y})\"\n",
        "\n",
        "    def __add__(self, other):\n",
        "\n",
        "        if isinstance(other, Vector):\n",
        "            return Vector(self.x + other.x, self.y + other.y)\n",
        "        return NotImplemented\n",
        "\n",
        "if __name__ == \"__main__\":\n",
        "    v1 = Vector(2, 3)\n",
        "    v2 = Vector(4, 5)\n",
        "\n",
        "    print(v1)\n",
        "    print(v2)\n",
        "\n",
        "    v3 = v1 + v2\n",
        "    print(v3)"
      ],
      "metadata": {
        "colab": {
          "base_uri": "https://localhost:8080/"
        },
        "id": "Hmxn6wBiuB-X",
        "outputId": "0bd71d28-d96b-447b-8be1-5e96272cacba"
      },
      "execution_count": null,
      "outputs": [
        {
          "output_type": "stream",
          "name": "stdout",
          "text": [
            "Vector(2, 3)\n",
            "Vector(4, 5)\n",
            "Vector(6, 8)\n"
          ]
        }
      ]
    },
    {
      "cell_type": "markdown",
      "source": [
        "#Explanation:\n",
        "#__str__ Method:\n",
        "\n",
        "* This method is called when you use print() on an instance of the class or convert it to a string using str(). In this example, it provides a clear representation of the Vector object.\n",
        "\n",
        "* It allows you to define how the object should be represented as a string.\n",
        "\n",
        "#__add__ Method:\n",
        "\n",
        "* This method is invoked when the addition operator (+) is used with two instances of the class. In this example, it adds the corresponding components of two Vector objects.\n",
        "\n",
        "* If the other operand is not a Vector, it returns NotImplemented, allowing Python to handle the case where the operation is invalid.\n",
        "\n",
        "#Summary:\n",
        "\n",
        "* Overriding __str__ allows for a meaningful string representation of the object.\n",
        "\n",
        "* Overriding __add__ enables the use of the + operator to combine instances of the class in a defined way.\n"
      ],
      "metadata": {
        "id": "lBRIU8JBxvoU"
      }
    },
    {
      "cell_type": "markdown",
      "source": [
        "#**12. Create a decorator that measures and prints the execution time of a function.**\n",
        "\n",
        "You can create a simple decorator in Python that measures and prints the execution time of a function using the time module.\n",
        "\n",
        "#Implementation:"
      ],
      "metadata": {
        "id": "74z7ILfH3QaW"
      }
    },
    {
      "cell_type": "code",
      "source": [
        "import time\n",
        "\n",
        "def timing_decorator(func):\n",
        "    def wrapper(*args, **kwargs):\n",
        "        start_time = time.time()\n",
        "        result = func(*args, **kwargs)\n",
        "        end_time = time.time()\n",
        "        execution_time = end_time - start_time\n",
        "        print(f\"Execution time of {func.__name__}: {execution_time:.4f} seconds\")\n",
        "        return result\n",
        "    return wrapper\n",
        "\n",
        "@timing_decorator\n",
        "def example_function(n):\n",
        "    total = 0\n",
        "    for i in range(n):\n",
        "        total += i\n",
        "    return total\n",
        "\n",
        "if __name__ == \"__main__\":\n",
        "    result = example_function(1000000)\n",
        "    print(f\"Result: {result}\")\n"
      ],
      "metadata": {
        "colab": {
          "base_uri": "https://localhost:8080/"
        },
        "id": "dwSNZ4Lm3l8t",
        "outputId": "649e0afb-9098-48e0-a435-db997901a72b"
      },
      "execution_count": null,
      "outputs": [
        {
          "output_type": "stream",
          "name": "stdout",
          "text": [
            "Execution time of example_function: 0.0719 seconds\n",
            "Result: 499999500000\n"
          ]
        }
      ]
    },
    {
      "cell_type": "markdown",
      "source": [
        "#Explanation:\n",
        "#1. Decorator Definition:\n",
        "\n",
        "###timing_decorator(func):\n",
        "* This is the decorator that takes a function as an argument.\n",
        "* Inside it, the wrapper function is defined, which wraps the original function.\n",
        "\n",
        "#2. Timing Logic:\n",
        "\n",
        "* start_time captures the current time before the function call.\n",
        "* end_time captures the current time after the function call.\n",
        "* The execution time is calculated by subtracting start_time from end_time.\n",
        "\n",
        "#3. Printing Execution Time:\n",
        "\n",
        "* The decorator prints the execution time formatted to four decimal places.\n",
        "\n",
        "#4. Using the Decorator:\n",
        "\n",
        "* The @timing_decorator syntax applies the decorator to example_function, measuring its execution time whenever it is called.\n",
        "\n",
        "This decorator is a useful tool for profiling functions and understanding their performance characteristics."
      ],
      "metadata": {
        "id": "TWFsinOJ329k"
      }
    },
    {
      "cell_type": "markdown",
      "source": [
        "#**13. Explain the concept of the Diamond Problem in multiple inheritance. How does Python resolve it?**\n",
        "\n",
        "The Diamond Problem is a common issue in multiple inheritance, particularly in object-oriented programming. It occurs when a class inherits from two classes that both inherit from a common base class. This can create ambiguity about which method or attribute should be inherited when called from the derived class.\n",
        "\n",
        "Illustration of the Diamond Problem\n",
        "Consider the following class hierarchy:\n",
        "\n",
        "       A\n",
        "      / \\\n",
        "     B   C\n",
        "      \\ /\n",
        "       D\n",
        "\n",
        "* Class A is the base class.\n",
        "* Classes B and C both inherit from A.\n",
        "* Class D inherits from both B and C.\n",
        "\n",
        "If D calls a method that is defined in A, it may be unclear whether to execute A’s method via B or via C.\n",
        "\n",
        "#Example:\n"
      ],
      "metadata": {
        "id": "PZudCbre41ve"
      }
    },
    {
      "cell_type": "code",
      "source": [
        "class A:\n",
        "    def greet(self):\n",
        "        return \"Hello from A\"\n",
        "\n",
        "class B(A):\n",
        "    def greet(self):\n",
        "        return \"Hello from B\"\n",
        "\n",
        "class C(A):\n",
        "    def greet(self):\n",
        "        return \"Hello from C\"\n",
        "\n",
        "class D(B, C):\n",
        "    pass\n",
        "\n",
        "d = D()\n",
        "print(d.greet())\n",
        "\n"
      ],
      "metadata": {
        "colab": {
          "base_uri": "https://localhost:8080/"
        },
        "id": "IKrluS515HkF",
        "outputId": "e98847ed-40c9-4baa-b5ba-2c1fcc2993e7"
      },
      "execution_count": null,
      "outputs": [
        {
          "output_type": "stream",
          "name": "stdout",
          "text": [
            "Hello from B\n"
          ]
        }
      ]
    },
    {
      "cell_type": "markdown",
      "source": [
        "##**How Python Resolves the Diamond Problem:**\n",
        "\n",
        "Python uses the Method Resolution Order (MRO) to determine the order in which base classes are searched when looking for a method. Python implements the C3 linearization algorithm, which ensures a consistent and predictable method resolution path.\n",
        "\n",
        "#1. MRO Calculation:\n",
        "\n",
        "* When you call d.greet(), Python looks up the method in the order defined by the MRO for class D.\n",
        "* The MRO for class D can be checked using D.mro() or D.__mro__.\n",
        "\n",
        "#2. MRO for the Example:"
      ],
      "metadata": {
        "id": "nT4lhdlF5nsL"
      }
    },
    {
      "cell_type": "code",
      "source": [
        "print(D.mro())\n"
      ],
      "metadata": {
        "colab": {
          "base_uri": "https://localhost:8080/"
        },
        "id": "y5Hu3nwW6CmH",
        "outputId": "0496ed19-9d36-4b3e-a4f4-4436992fec76"
      },
      "execution_count": null,
      "outputs": [
        {
          "output_type": "stream",
          "name": "stdout",
          "text": [
            "[<class '__main__.D'>, <class '__main__.B'>, <class '__main__.C'>, <class '__main__.A'>, <class 'object'>]\n"
          ]
        }
      ]
    },
    {
      "cell_type": "markdown",
      "source": [
        "#This output means Python first looks for greet in D, then B, then C, then A, and finally in the base object class."
      ],
      "metadata": {
        "id": "BVXRuo5T6K_Z"
      }
    },
    {
      "cell_type": "markdown",
      "source": [
        "#**14. Write a class method that keeps track of the number of instances created from a class.**\n",
        "\n",
        "You can keep track of the number of instances created from a class by using a class variable along with a class method. Below is an example of a class MyClass that does this:"
      ],
      "metadata": {
        "id": "DLMZV9_y6a51"
      }
    },
    {
      "cell_type": "code",
      "source": [
        "class MyClass:\n",
        "    instance_count = 0\n",
        "\n",
        "    def __init__(self):\n",
        "        MyClass.instance_count += 1\n",
        "\n",
        "    @classmethod\n",
        "    def get_instance_count(cls):\n",
        "        return cls.instance_count\n",
        "\n",
        "if __name__ == \"__main__\":\n",
        "    obj1 = MyClass()\n",
        "    obj2 = MyClass()\n",
        "    obj3 = MyClass()\n",
        "\n",
        "    print(f\"Number of instances created: {MyClass.get_instance_count()}\")\n"
      ],
      "metadata": {
        "colab": {
          "base_uri": "https://localhost:8080/"
        },
        "id": "W9mIFkVG6-jB",
        "outputId": "75553dea-dffd-4123-d9ec-fedf87b8f5a6"
      },
      "execution_count": null,
      "outputs": [
        {
          "output_type": "stream",
          "name": "stdout",
          "text": [
            "Number of instances created: 3\n"
          ]
        }
      ]
    },
    {
      "cell_type": "markdown",
      "source": [
        "#Explanation:\n",
        "\n",
        "#1. Class Variable:\n",
        "\n",
        "* instance_count is a class variable that holds the number of instances created. It is shared across all instances of the class.\n",
        "\n",
        "#2. Constructor (__init__ Method):\n",
        "\n",
        "* Each time an instance of MyClass is created, the constructor increments the instance_count by 1.\n",
        "\n",
        "#3. Class Method (get_instance_count):\n",
        "\n",
        "* This method uses the @classmethod decorator, allowing it to access the class variable instance_count without needing an instance of the class.\n",
        "* It returns the current count of instances created.\n",
        "\n",
        "#Example Usage:\n",
        "* When you create three instances of MyClass, the count is updated accordingly.\n",
        "* Calling get_instance_count() will provide the total number of instances created, which will be 3 in this case.\n",
        "\n",
        "This pattern is useful for tracking how many objects of a class have been instantiated, providing a way to manage resources or perform analytics on object creation."
      ],
      "metadata": {
        "id": "d2SN30s07N74"
      }
    },
    {
      "cell_type": "markdown",
      "source": [
        "#**15. Implement a static method in a class that checks if a given year is a leap year.**\n",
        "\n",
        "\n",
        "You can implement a static method in a class to check if a given year is a leap year. A leap year is defined as follows:\n",
        "\n",
        "* It is divisible by 4.\n",
        "* It is not divisible by 100, unless it is also divisible by 400.\n",
        "\n",
        "Here's how you can implement this in a class called YearUtils:"
      ],
      "metadata": {
        "id": "Yhsk1ZdZ7xrT"
      }
    },
    {
      "cell_type": "code",
      "source": [
        "class YearUtils:\n",
        "    @staticmethod\n",
        "    def is_leap_year(year):\n",
        "        \"\"\"Check if the given year is a leap year.\"\"\"\n",
        "        if (year % 4 == 0 and year % 100 != 0) or (year % 400 == 0):\n",
        "            return True\n",
        "        return False\n",
        "\n",
        "if __name__ == \"__main__\":\n",
        "    year = 2024\n",
        "    if YearUtils.is_leap_year(year):\n",
        "        print(f\"{year} is a leap year.\")\n",
        "    else:\n",
        "        print(f\"{year} is not a leap year.\")\n",
        "\n",
        "    year = 1900\n",
        "    if YearUtils.is_leap_year(year):\n",
        "        print(f\"{year} is a leap year.\")\n",
        "    else:\n",
        "        print(f\"{year} is not a leap year.\")\n"
      ],
      "metadata": {
        "colab": {
          "base_uri": "https://localhost:8080/"
        },
        "id": "y7sUjdmU-ag0",
        "outputId": "396d4a87-63cb-4654-829e-c4eab12c27a3"
      },
      "execution_count": null,
      "outputs": [
        {
          "output_type": "stream",
          "name": "stdout",
          "text": [
            "2024 is a leap year.\n",
            "1900 is not a leap year.\n"
          ]
        }
      ]
    },
    {
      "cell_type": "markdown",
      "source": [
        "#1. Static Method:\n",
        "\n",
        "The @staticmethod decorator indicates that is_leap_year is a static method. This means it does not depend on instance or class-specific data and can be called on the class itself.\n",
        "\n",
        "#2. Leap Year Logic:\n",
        "\n",
        "The method checks the given year against the conditions for leap years:\n",
        "* If the year is divisible by 4 and not divisible by 100, it is a leap year.\n",
        "* If it is divisible by 400, it is also a leap year.\n",
        "\n",
        "#3. Example Usage:\n",
        "\n",
        "* The code checks if the years 2024 and 1900 are leap years and prints the results.\n",
        "\n",
        "This implementation provides a clean and reusable way to determine if a given year is a leap year, encapsulated within a utility class.\n",
        "\n",
        "\n",
        "\n"
      ],
      "metadata": {
        "id": "XO3sr3cs-n0i"
      }
    }
  ]
}