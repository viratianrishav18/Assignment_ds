{
 "cells": [
  {
   "cell_type": "markdown",
   "metadata": {},
   "source": [
    "THEORY:"
   ]
  },
  {
   "cell_type": "markdown",
   "metadata": {},
   "source": [
    "1. What is the difference between a function and a method in Python?\n",
    "\n",
    ":- Both functions and methods are used to perform the task and return the result but they have some differences:\n",
    "1) a function is a block of reusable code that performs a specific task .\n",
    "        whereas a method is a function that belongs to a class. It is invoked on an object of a class.\n",
    "2) a function can be called by itself or it can be called by another function.\n",
    "        whereas a method can be called only by an object of a class.\n",
    "3) a function can be defined anywhere in the program.\n",
    "        whereas a method must be defined inside a class.\n",
    "4) a function can return only one value.\n",
    "        whereas a method can return multiple values.\n",
    "\n",
    "5) a function is intialised by def keyword.\n",
    "        whereas a method is intialised by the 'self' keyword."
   ]
  },
  {
   "cell_type": "code",
   "execution_count": 2,
   "metadata": {},
   "outputs": [
    {
     "data": {
      "text/plain": [
       "55"
      ]
     },
     "execution_count": 2,
     "metadata": {},
     "output_type": "execute_result"
    }
   ],
   "source": [
    "def sum1(x,y):\n",
    "    return x+y\n",
    "sum1(21,34)"
   ]
  },
  {
   "cell_type": "markdown",
   "metadata": {},
   "source": [
    "2. Explain the concept of function arguments and parameters in Python.\n",
    "\n",
    ":- Function arguments and parameters are used to pass data to and from functions.\n",
    "1) Function arguments are the actual values that are passed to the function.\n",
    "2) Function parameters are the variables that are used to receive the values passed to the function.\n",
    "\n"
   ]
  },
  {
   "cell_type": "code",
   "execution_count": 3,
   "metadata": {},
   "outputs": [
    {
     "name": "stdout",
     "output_type": "stream",
     "text": [
      "Hello John\n"
     ]
    }
   ],
   "source": [
    "def greet(name):     # name is parameter\n",
    "    print(\"Hello\", name)    \n",
    "greet(\"John\")      #\"john\" is args."
   ]
  },
  {
   "cell_type": "markdown",
   "metadata": {},
   "source": [
    "3. What are the different ways to define and call a function in Python?\n",
    "\n",
    ":- There are two main ways to define and call a function in Python:\n",
    "1) basic function definition and call\n",
    "2) Function with Parameters and Arguments\n",
    "3) lambda function.\n",
    "4) nested function definition and call.\n",
    "5) function definition with default parameters\n",
    "6) function definition with variable length args.\n",
    "7) generator function etc.\n",
    "\n",
    "\n",
    "\n",
    "\n"
   ]
  },
  {
   "cell_type": "code",
   "execution_count": 5,
   "metadata": {},
   "outputs": [
    {
     "name": "stdout",
     "output_type": "stream",
     "text": [
      "70\n"
     ]
    }
   ],
   "source": [
    "def func1(b,a=34):\n",
    "    return a+b\n",
    "print(func1(36))"
   ]
  },
  {
   "cell_type": "markdown",
   "metadata": {},
   "source": [
    "4. What is the purpose of the `return` statement in a Python function?\n",
    "\n",
    ":- The `return` statement in a Python function is used to return a value from the function as it is  like if we      took a string as args. it will return the string .\n",
    "\n",
    "\n"
   ]
  },
  {
   "cell_type": "code",
   "execution_count": 10,
   "metadata": {},
   "outputs": [
    {
     "name": "stdout",
     "output_type": "stream",
     "text": [
      "<class 'str'>\n",
      "Hello, World!\n"
     ]
    }
   ],
   "source": [
    "def func2():\n",
    "    return \"Hello, World!\"\n",
    "\n",
    "result = func2()\n",
    "print(type(result))\n",
    "print(result)"
   ]
  },
  {
   "cell_type": "markdown",
   "metadata": {},
   "source": [
    "5. What are iterators in Python and how do they differ from iterables?\n",
    "\n",
    ":- Iterators are objects that can be iterated over iterables using the `for` loop.  Iterators are implemented using the `__iter__()` and `__next__()` methods.\n",
    "\n",
    "\n",
    "- The main difference between iterators and iterables is that an iterator can be iterated over only once, while an iterable can be iterated over multiple times.\n",
    "we can access the elements of interable one by one  using iterator thats why it doesn't require that much memory and it could be faster.\n",
    "\n"
   ]
  },
  {
   "cell_type": "code",
   "execution_count": 15,
   "metadata": {},
   "outputs": [
    {
     "data": {
      "text/plain": [
       "'Rishav'"
      ]
     },
     "execution_count": 15,
     "metadata": {},
     "output_type": "execute_result"
    }
   ],
   "source": [
    "l=[12,4,54676,899008,5765,\"Rishav\"]\n",
    "a=iter(l)\n",
    "next(a)\n",
    "next(a)\n",
    "next(a)\n",
    "next(a)\n",
    "next(a)\n",
    "next(a)\n"
   ]
  },
  {
   "cell_type": "markdown",
   "metadata": {},
   "source": [
    "6. Explain the concept of generators in Python and how they are defined.\n",
    "\n",
    ":- Generators are a type of iterable, like lists or tuples.  They can be iterated over with for loops. Generators are created using the `yield` keyword instead of `return`.\n",
    "\n",
    "- Generators are a great way to create iterators because they do not store all the values in memory. Instead, they generate each value on the fly.It just gives a single value at a time unlike a regular looping on iterable thats why it is used for the big databases like for millions of elements which require a large memory .\n",
    "\n"
   ]
  },
  {
   "cell_type": "code",
   "execution_count": 17,
   "metadata": {},
   "outputs": [
    {
     "data": {
      "text/plain": [
       "49"
      ]
     },
     "execution_count": 17,
     "metadata": {},
     "output_type": "execute_result"
    }
   ],
   "source": [
    "def sum2(a,b):\n",
    "    for i in range(a,b+1):\n",
    "        yield i**2\n",
    "\n",
    "n=sum2(1,100000000)\n",
    "next(n)\n",
    "next(n)\n",
    "next(n)\n",
    "next(n)\n",
    "next(n)\n",
    "next(n)\n",
    "next(n)"
   ]
  },
  {
   "cell_type": "markdown",
   "metadata": {},
   "source": [
    "7. What are the advantages of using generators over regular functions?\n",
    "\n",
    "1) Memory Efficiency – No need to store entire sequences in memory.\n",
    "2) Improved Performance – Faster execution as values are generated on the fly.\n",
    "3) Maintainability – Cleaner and more readable code, especially for complex or infinite sequences."
   ]
  },
  {
   "cell_type": "code",
   "execution_count": 18,
   "metadata": {},
   "outputs": [
    {
     "data": {
      "text/plain": [
       "49"
      ]
     },
     "execution_count": 18,
     "metadata": {},
     "output_type": "execute_result"
    }
   ],
   "source": [
    "def sum2(a,b):\n",
    "    for i in range(a,b+1):\n",
    "        yield i**2\n",
    "\n",
    "n=sum2(1,100000000)\n",
    "next(n)\n",
    "next(n)\n",
    "next(n)\n",
    "next(n)\n",
    "next(n)\n",
    "next(n)\n",
    "next(n)  #only gives a single value and other value are generated on the fly "
   ]
  },
  {
   "cell_type": "markdown",
   "metadata": {},
   "source": [
    "8. What is a lambda function in Python and when is it typically used?\n",
    "\n",
    ":- A lambda function is a anonymous function  that can take any number of arguments but have a single expression which is benefitial for small problems .\n",
    "\n",
    "it is typically used for small problems or where the number of expression is only one and it can also be used under a function and we can assign is with a variable too."
   ]
  },
  {
   "cell_type": "code",
   "execution_count": 19,
   "metadata": {},
   "outputs": [
    {
     "name": "stdout",
     "output_type": "stream",
     "text": [
      "4\n"
     ]
    }
   ],
   "source": [
    "a= lambda x,y:x if x>y else y\n",
    "print(a(3,4))"
   ]
  },
  {
   "cell_type": "markdown",
   "metadata": {},
   "source": [
    "9. Explain the purpose and usage of the `map()` function in Python.\n",
    "\n",
    "\n",
    ":- we use 'map()' function so that we can use a particluar functionn on all the elements of a interable like list ,set etc. and returns the output as a list.\n",
    "'map()' is faster and more memory efficient than using a for loop.    \n"
   ]
  },
  {
   "cell_type": "code",
   "execution_count": 20,
   "metadata": {},
   "outputs": [
    {
     "data": {
      "text/plain": [
       "[24, 64906, 8, 9134, 1356]"
      ]
     },
     "execution_count": 20,
     "metadata": {},
     "output_type": "execute_result"
    }
   ],
   "source": [
    "l=[12,32453,4,4567,678]\n",
    "a=map(lambda x: x*2,l)\n",
    "list(a)"
   ]
  },
  {
   "cell_type": "markdown",
   "metadata": {},
   "source": [
    "10. What is the difference between `map()`, `reduce()`, and `filter()` functions in Python?\n",
    "\n",
    ":- 'map()' function applies a given function to all items of an input list returns the output as a list.\n",
    "\n",
    "- 'reduce()' function applies a given function to all items of an input list in a pair like the first and 2nd elements and then the output of first two with third  and returns a single output.\n",
    "\n",
    "- 'filter()' function applies a given function to all items of an input list and returns a list of those items for which the function returns 'True'."
   ]
  },
  {
   "cell_type": "code",
   "execution_count": 23,
   "metadata": {},
   "outputs": [
    {
     "name": "stdout",
     "output_type": "stream",
     "text": [
      "[24, 64906, 8, 9134, 1356]\n",
      "37714\n",
      "[12, 4, 678]\n"
     ]
    }
   ],
   "source": [
    "from functools import reduce as r\n",
    "l=[12,32453,4,4567,678]\n",
    "\n",
    "a=map(lambda x: x*2,l)\n",
    "print(list(a))\n",
    "\n",
    "b=r(lambda x,y: x+y,l)\n",
    "print(b)\n",
    "\n",
    "c=filter(lambda x: x%2==0,l)\n",
    "print(list(c))"
   ]
  },
  {
   "cell_type": "markdown",
   "metadata": {},
   "source": [
    "    Practical Questions:\n"
   ]
  },
  {
   "cell_type": "markdown",
   "metadata": {},
   "source": [
    "1. Write a Python function that takes a list of numbers as input and returns the sum of all even numbers in the list.\n"
   ]
  },
  {
   "cell_type": "code",
   "execution_count": 30,
   "metadata": {},
   "outputs": [
    {
     "name": "stdout",
     "output_type": "stream",
     "text": [
      "110.0\n"
     ]
    }
   ],
   "source": [
    "l=list(map(int, input(\"Enter numbers separated by spaces: \").split()))\n",
    "def even_sum():\n",
    "    a=filter(lambda x:  x%2==0 , l)\n",
    "    return sum(a)\n",
    "print(even_sum())"
   ]
  },
  {
   "cell_type": "code",
   "execution_count": 31,
   "metadata": {},
   "outputs": [
    {
     "name": "stdout",
     "output_type": "stream",
     "text": [
      "60.0\n"
     ]
    }
   ],
   "source": [
    "l=list(map(int, input(\"Enter numbers separated by spaces: \").split()))\n",
    "def even_sum():\n",
    "    s=0\n",
    "    for i in l:\n",
    "        if i%2==0:\n",
    "            s+=i\n",
    "    return s\n",
    "print(even_sum())"
   ]
  },
  {
   "cell_type": "markdown",
   "metadata": {},
   "source": [
    "2. Create a Python function that accepts a string and returns the reverse of that string."
   ]
  },
  {
   "cell_type": "code",
   "execution_count": 39,
   "metadata": {},
   "outputs": [
    {
     "data": {
      "text/plain": [
       "'dlroW ! olleH'"
      ]
     },
     "execution_count": 39,
     "metadata": {},
     "output_type": "execute_result"
    }
   ],
   "source": [
    "def rev_str(s):\n",
    "    return s[::-1]\n",
    "\n",
    "a=input(\"enter a str: \")\n",
    "rev_str(a)"
   ]
  },
  {
   "cell_type": "markdown",
   "metadata": {},
   "source": [
    "3. Implement a Python function that takes a list of integers and returns a new list containing the squares of\n",
    "each number."
   ]
  },
  {
   "cell_type": "code",
   "execution_count": 40,
   "metadata": {},
   "outputs": [
    {
     "data": {
      "text/plain": [
       "[1, 4, 9, 16, 25, 36]"
      ]
     },
     "execution_count": 40,
     "metadata": {},
     "output_type": "execute_result"
    }
   ],
   "source": [
    "l=list(map(int,input(\"give the number : \").split()))\n",
    "\n",
    "a=map(lambda x: x**2,l )\n",
    "list(a)"
   ]
  },
  {
   "cell_type": "markdown",
   "metadata": {},
   "source": [
    "4. Write a Python function that checks if a given number is prime or not from 1 to 200."
   ]
  },
  {
   "cell_type": "code",
   "execution_count": 48,
   "metadata": {},
   "outputs": [
    {
     "name": "stdout",
     "output_type": "stream",
     "text": [
      "[2, 3, 5, 7, 11, 13, 17, 19, 23, 29, 31, 37, 41, 43, 47, 53, 59, 61, 67, 71, 73, 79, 83, 89, 97, 101, 103, 107, 109, 113, 127, 131, 137, 139, 149, 151, 157, 163, 167, 173, 179, 181, 191, 193, 197, 199]\n"
     ]
    }
   ],
   "source": [
    "def is_prime(n):\n",
    "    if n<=1:\n",
    "        return False \n",
    "    for i in range (2,int(n/2)+1):\n",
    "        if n%i==0:\n",
    "            return False\n",
    "        \n",
    "    return True\n",
    "\n",
    "b=[num for num in range(1,201) if is_prime(num)]\n",
    "print(b)\n",
    "\n"
   ]
  },
  {
   "cell_type": "markdown",
   "metadata": {},
   "source": [
    "5. Create an iterator class in Python that generates the Fibonacci sequence up to a specified number of\n",
    "terms."
   ]
  },
  {
   "cell_type": "code",
   "execution_count": 53,
   "metadata": {},
   "outputs": [
    {
     "name": "stdout",
     "output_type": "stream",
     "text": [
      "0\n",
      "1\n",
      "1\n",
      "2\n",
      "3\n",
      "5\n",
      "8\n",
      "13\n",
      "21\n",
      "34\n"
     ]
    }
   ],
   "source": [
    "def fibonacci(n):\n",
    "    a, b = 0, 1\n",
    "    for i in range(n):\n",
    "        yield a\n",
    "        a, b = b, a + b\n",
    "\n",
    "n=int(input(\"Enter the number of terms: \"))\n",
    "f=fibonacci(n)\n",
    "for i in range(n):\n",
    "    print(next(f))\n"
   ]
  },
  {
   "cell_type": "markdown",
   "metadata": {},
   "source": [
    "6. Write a generator function in Python that yields the powers of 2 up to a given exponent."
   ]
  },
  {
   "cell_type": "code",
   "execution_count": 60,
   "metadata": {},
   "outputs": [
    {
     "name": "stdout",
     "output_type": "stream",
     "text": [
      "1\n",
      "2\n",
      "4\n",
      "8\n",
      "16\n",
      "32\n"
     ]
    }
   ],
   "source": [
    "def exp(n):\n",
    "    for i in range (n+1):\n",
    "        yield 2**i\n",
    "\n",
    "n=int(input(\"Enter the exponent: \"))\n",
    "\n",
    "f=exp(n)\n",
    "for i in f:\n",
    "    print(i)"
   ]
  },
  {
   "cell_type": "markdown",
   "metadata": {},
   "source": [
    "7. Implement a generator function that reads a file line by line and yields each line as a string."
   ]
  },
  {
   "cell_type": "code",
   "execution_count": null,
   "metadata": {},
   "outputs": [],
   "source": [
    "def read_file_line_by_line(file_path):\n",
    "    with open(file_path, 'r') as file:\n",
    "        for line in file:\n",
    "            yield line.strip()\n",
    "\n",
    "file_path = \"C:\\\\Users\\\\royal\\\\OneDrive\\\\Documents\\\\pes.docx\"\n",
    "for line in read_file_line_by_line(file_path):\n",
    "    print(line)"
   ]
  },
  {
   "cell_type": "markdown",
   "metadata": {},
   "source": [
    "8. Use a lambda function in Python to sort a list of tuples based on the second element of each tuple."
   ]
  },
  {
   "cell_type": "code",
   "execution_count": 69,
   "metadata": {},
   "outputs": [
    {
     "name": "stdout",
     "output_type": "stream",
     "text": [
      "[(4, 1), (5, 2), (1, 3), (2, 4)]\n"
     ]
    }
   ],
   "source": [
    "l3 = [(1, 3), (4, 1), (5, 2), (2, 4)]\n",
    "sorted_list = sorted(l3, key=lambda x: x[1])\n",
    "print(sorted_list)"
   ]
  },
  {
   "cell_type": "markdown",
   "metadata": {},
   "source": [
    "9. Write a Python program that uses `map()` to convert a list of temperatures from Celsius to Fahrenheit."
   ]
  },
  {
   "cell_type": "code",
   "execution_count": 76,
   "metadata": {},
   "outputs": [
    {
     "name": "stdout",
     "output_type": "stream",
     "text": [
      "[98.60000000000001, 80.6, 109.4, 69.80000000000001, 32.0, 192.20000000000002]\n"
     ]
    }
   ],
   "source": [
    "\n",
    "l4=[37,27,43,21,0,89]\n",
    "\n",
    "a= map(lambda x: x*(9/5)+32,l4)\n",
    "print(list(a))"
   ]
  },
  {
   "cell_type": "markdown",
   "metadata": {},
   "source": [
    "10. Create a Python program that uses `filter()` to remove all the vowels from a given string."
   ]
  },
  {
   "cell_type": "code",
   "execution_count": 77,
   "metadata": {},
   "outputs": [
    {
     "data": {
      "text/plain": [
       "'Rshv'"
      ]
     },
     "execution_count": 77,
     "metadata": {},
     "output_type": "execute_result"
    }
   ],
   "source": [
    "def r_v(s):\n",
    "    vowels = \"aeiouAEIOU\"\n",
    "    return ''.join(filter(lambda x: x not in vowels, s))\n",
    "\n",
    "input_string = \"Rishav\"\n",
    "result_string = r_v(input_string)\n",
    "result_string"
   ]
  },
  {
   "cell_type": "markdown",
   "metadata": {},
   "source": [
    "11) Imagine an accounting routine used in a book shop. It works on a list with sublists, which look like this:\n",
    "\n",
    "\n",
    "Write a Python program, which returns a list with 2-tuples. Each tuple consists of the order number and the\n",
    "product of the price per item and the quantity. The product should be increased by 10,- € if the value of the\n",
    "order is smaller than 100,00 €.\n",
    "\n",
    "Write a Python program using lambda and map"
   ]
  },
  {
   "cell_type": "code",
   "execution_count": 78,
   "metadata": {},
   "outputs": [
    {
     "name": "stdout",
     "output_type": "stream",
     "text": [
      "[(34587, 163.8), (98762, 284.0), (77226, 108.85000000000001), (88112, 84.97)]\n"
     ]
    }
   ],
   "source": [
    "data = [\n",
    "    [34587, \"Learning Python, Mark Lutz\", 4, 40.95],\n",
    "    [98762, \"Programming Python, Mark Lutz\", 5, 56.80],\n",
    "    [77226, \"Head First Python, Paul Barry\", 3, 32.95],\n",
    "    [88112, \"Einführung in Python3, Bernd Klein\", 3, 24.99]\n",
    "]\n",
    "\n",
    "result = list(map(lambda x: (x[0], x[2] * x[3] + (10 if x[2] * x[3] < 100 else 0)), data))\n",
    "\n",
    "print(result)\n"
   ]
  }
 ],
 "metadata": {
  "kernelspec": {
   "display_name": "Python 3",
   "language": "python",
   "name": "python3"
  },
  "language_info": {
   "codemirror_mode": {
    "name": "ipython",
    "version": 3
   },
   "file_extension": ".py",
   "mimetype": "text/x-python",
   "name": "python",
   "nbconvert_exporter": "python",
   "pygments_lexer": "ipython3",
   "version": "3.12.7"
  }
 },
 "nbformat": 4,
 "nbformat_minor": 2
}
